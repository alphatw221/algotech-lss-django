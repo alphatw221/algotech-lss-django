{
 "cells": [
  {
   "cell_type": "code",
   "execution_count": 122,
   "id": "eeb5ce4d",
   "metadata": {},
   "outputs": [],
   "source": [
    "import django_initializer\n",
    "import os\n",
    "import sys\n",
    "\n",
    "import arrow\n",
    "import django\n",
    "from asgiref.sync import async_to_sync\n",
    "from channels.layers import get_channel_layer\n",
    "from django_cron import CronJobBase, Schedule\n",
    "from automation.jobs.send_reminder_messages import send_reminder_messages_job\n",
    "import database\n",
    "\n",
    "import service\n",
    "from api import models\n",
    "import plugins as lss_plugins\n",
    "from django.conf import settings"
   ]
  },
  {
   "cell_type": "code",
   "execution_count": 125,
   "id": "2b75fbc7",
   "metadata": {},
   "outputs": [],
   "source": [
    "class UncheckoutCartReminderCronJob(CronJobBase):\n",
    "    RUN_EVERY_MINS = 0.5\n",
    "    # RUN_AT_TIMES = ['10:00', ]\n",
    "    # RETRY_AFTER_FAILURE_MINS = 60\n",
    "\n",
    "    schedule = Schedule(run_every_mins=RUN_EVERY_MINS,\n",
    "                        # run_at_times=RUN_AT_TIMES,\n",
    "                        # retry_after_failure_mins=RETRY_AFTER_FAILURE_MINS\n",
    "                        )\n",
    "    code = 'uncheckout_cart_reminder'\n",
    "    ALLOW_PARALLEL_RUNS = True\n",
    "\n",
    "    def do(self):\n",
    "        start_time = arrow.now()\n",
    "        utc_time_four_hours_ago = arrow.utcnow().shift(hours=-4)\n",
    "        campaigns_ended_over_4_hours = models.campaign.campaign.Campaign.objects.filter(end_at__gte=utc_time_four_hours_ago.datetime) #, end_at__lt=utc_time_four_hours_ago.shift(minutes=+1).datetime)\n",
    "        campaigns_ended_over_4_hours = models.campaign.campaign.Campaign.objects.filter(id=1419)\n",
    "        carts = [cart for campaign in campaigns_ended_over_4_hours for cart in campaign.carts.all() if len(cart.products) > 0]\n",
    "        for cart in carts:\n",
    "            service.rq.queue.enqueue_general_queue(job=send_reminder_messages_job, cart=cart)\n",
    "        end_time = arrow.now()\n",
    "        print(end_time-start_time)"
   ]
  },
  {
   "cell_type": "code",
   "execution_count": 127,
   "id": "cbaada7e",
   "metadata": {},
   "outputs": [
    {
     "name": "stdout",
     "output_type": "stream",
     "text": [
      "0:00:00.121946\n"
     ]
    }
   ],
   "source": [
    "UncheckoutCartReminderCronJob().do()"
   ]
  },
  {
   "cell_type": "code",
   "execution_count": null,
   "id": "acaaec6a",
   "metadata": {},
   "outputs": [],
   "source": []
  },
  {
   "cell_type": "code",
   "execution_count": null,
   "id": "eb2aa2fb",
   "metadata": {},
   "outputs": [],
   "source": []
  },
  {
   "cell_type": "code",
   "execution_count": null,
   "id": "2c2d6479",
   "metadata": {},
   "outputs": [],
   "source": []
  }
 ],
 "metadata": {
  "kernelspec": {
   "display_name": "Django Shell-Plus",
   "language": "python",
   "name": "django_extensions"
  },
  "language_info": {
   "codemirror_mode": {
    "name": "ipython",
    "version": 3
   },
   "file_extension": ".py",
   "mimetype": "text/x-python",
   "name": "python",
   "nbconvert_exporter": "python",
   "pygments_lexer": "ipython3",
   "version": "3.9.0"
  }
 },
 "nbformat": 4,
 "nbformat_minor": 5
}
