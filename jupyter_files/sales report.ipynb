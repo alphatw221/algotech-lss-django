{
 "cells": [
  {
   "cell_type": "code",
   "execution_count": 2,
   "id": "1993a78c",
   "metadata": {
    "ExecuteTime": {
     "end_time": "2022-07-04T16:23:34.757420Z",
     "start_time": "2022-07-04T16:23:34.720424Z"
    }
   },
   "outputs": [],
   "source": [
    "import django_initializer\n",
    "from backend.pymongo.mongodb import db\n",
    "from datetime import datetime\n",
    "import arrow"
   ]
  },
  {
   "cell_type": "code",
   "execution_count": 5,
   "id": "d887329e",
   "metadata": {
    "ExecuteTime": {
     "end_time": "2022-07-04T16:24:30.883140Z",
     "start_time": "2022-07-04T16:24:30.861801Z"
    }
   },
   "outputs": [
    {
     "data": {
      "text/plain": [
       "datetime.datetime(2022, 6, 15, 0, 0, tzinfo=tzutc())"
      ]
     },
     "metadata": {},
     "output_type": "display_data"
    },
    {
     "data": {
      "text/plain": [
       "datetime.datetime(2022, 6, 15, 23, 59, 59, tzinfo=tzutc())"
      ]
     },
     "metadata": {},
     "output_type": "display_data"
    }
   ],
   "source": [
    "start_time = \"2022-06-15\"\n",
    "end_time = \"2022-06-15\"\n",
    "new_start_time = arrow.get(start_time).replace(hour=0, minute=0, second=0).datetime\n",
    "display(new_start_time)\n",
    "new_end_time = arrow.get(start_time).replace(hour=23, minute=59, second=59).datetime\n",
    "display(new_end_time)"
   ]
  },
  {
   "cell_type": "code",
   "execution_count": 23,
   "id": "46717f04",
   "metadata": {
    "ExecuteTime": {
     "end_time": "2022-07-04T17:07:07.422942Z",
     "start_time": "2022-07-04T17:07:07.286151Z"
    }
   },
   "outputs": [],
   "source": [
    "cursor=db.api_campaign.aggregate([\n",
    "    {\n",
    "        \"$match\":{\n",
    "            \"start_at\":{\n",
    "                \"$gte\": new_start_time\n",
    "            },\n",
    "            \"end_at\": {\n",
    "                \"$lte\": new_end_time\n",
    "            }\n",
    "        }\n",
    "    },\n",
    "    {\n",
    "        \"$lookup\": {\n",
    "            \"from\": \"api_campaign_comment\",\n",
    "            \"as\": \"campaign_comment\",\n",
    "            'let': {'id': \"$id\" },\n",
    "            \"pipeline\":[\n",
    "                {\"$match\":{\n",
    "                    '$expr': { '$eq': [\"$$id\", \"$campaign_id\"] },\n",
    "                    \"id\":{\"$ne\":None}}\n",
    "                }\n",
    "            ]\n",
    "        },\n",
    "    },\n",
    "    {\n",
    "        \"$lookup\": {\n",
    "            \"from\": \"api_campaign_product\",\n",
    "            \"as\": \"campaign_product_sold\", \n",
    "            'let': {'id': \"$id\" },\n",
    "            \"pipeline\":[\n",
    "                {\n",
    "                    \"$match\":{\n",
    "                        '$expr': { '$eq': [\"$$id\", \"$campaign_id\"] },\n",
    "                        \"id\":{\"$ne\":None},\n",
    "                        \"qty_sold\": {\n",
    "                            \"$gt\": 0\n",
    "                        }\n",
    "                    }\n",
    "                }\n",
    "            ]\n",
    "        },\n",
    "    },\n",
    "    {\n",
    "        \"$lookup\": {\n",
    "            \"from\": \"api_campaign_product\",\n",
    "            \"as\": \"campaign_product_unsold\", \n",
    "            'let': {'id': \"$id\" },\n",
    "            \"pipeline\":[\n",
    "                {\n",
    "                    \"$match\":{\n",
    "                        '$expr': { '$eq': [\"$$id\", \"$campaign_id\"] },\n",
    "                        \"id\":{\"$ne\":None},\n",
    "                        \"qty_sold\": {\n",
    "                            \"$eq\": 0\n",
    "                        }\n",
    "                    }\n",
    "                }\n",
    "            ]\n",
    "        },\n",
    "    },\n",
    "    {\n",
    "        \"$lookup\": {\n",
    "            \"from\": \"api_campaign_product\",\n",
    "            \"as\": \"campaign_product_total_item\", \n",
    "            'let': {'id': \"$id\" },\n",
    "            \"pipeline\":[\n",
    "                {\n",
    "                    \"$match\":{\n",
    "                        '$expr': { '$eq': [\"$$id\", \"$campaign_id\"] },\n",
    "                        \"id\":{\"$ne\":None},\n",
    "                    }\n",
    "                }\n",
    "            ]\n",
    "        },\n",
    "    },\n",
    "    {\n",
    "        \"$lookup\": {\n",
    "            \"from\": \"api_order\",\n",
    "            \"as\": \"orders\", \n",
    "            'let': {'id': \"$id\" },\n",
    "            \"pipeline\":[\n",
    "                {\n",
    "                    \"$match\":{\n",
    "                        '$expr': { '$eq': [\"$$id\", \"$campaign_id\"] },\n",
    "                        \"id\":{\"$ne\":None},\n",
    "                    }\n",
    "                }\n",
    "            ]\n",
    "        },\n",
    "    },\n",
    "    {\n",
    "        \"$project\":{\n",
    "            \"_id\":0,\n",
    "            \"campaign_id\":\"$id\",\n",
    "            \"post_comment\":{\"$size\":\"$campaign_comment.id\"},\n",
    "            \"no_of_items_sold\":{\"$size\": \"$campaign_product_sold.id\"},\n",
    "            \"no_of_items_unsold\":{\"$size\": \"$campaign_product_unsold.id\"},\n",
    "            \"total_no_of_items\":{\"$size\": \"$campaign_product_total_item.id\"},\n",
    "            \"total_inventories\":{\"$sum\": \"$campaign_product_total_item.qty_for_sale\"},\n",
    "            \"average_order_value\":{\"$avg\": \"$orders.total\"},\n",
    "            \"total_amount\": {\"$sum\": \"$orders.total\"},\n",
    "            \"total_no_of_orders\": {\"$size\": \"$orders.total\"},\n",
    "            \n",
    "        }\n",
    "    }\n",
    "])\n",
    "l = list(cursor)"
   ]
  },
  {
   "cell_type": "code",
   "execution_count": 24,
   "id": "9ae5b858",
   "metadata": {
    "ExecuteTime": {
     "end_time": "2022-07-04T17:07:08.057120Z",
     "start_time": "2022-07-04T17:07:08.039166Z"
    }
   },
   "outputs": [
    {
     "data": {
      "text/plain": [
       "[{'campaign_id': 495,\n",
       "  'post_comment': 2,\n",
       "  'no_of_items_sold': 1,\n",
       "  'no_of_items_unsold': 2,\n",
       "  'total_no_of_items': 3,\n",
       "  'total_inventories': 1000,\n",
       "  'average_order_value': None,\n",
       "  'total_amount': 0,\n",
       "  'total_no_of_orders': 0},\n",
       " {'campaign_id': 496,\n",
       "  'post_comment': 4,\n",
       "  'no_of_items_sold': 4,\n",
       "  'no_of_items_unsold': 2,\n",
       "  'total_no_of_items': 6,\n",
       "  'total_inventories': 1050,\n",
       "  'average_order_value': 127.92,\n",
       "  'total_amount': 127.92,\n",
       "  'total_no_of_orders': 1},\n",
       " {'campaign_id': 497,\n",
       "  'post_comment': 14,\n",
       "  'no_of_items_sold': 1,\n",
       "  'no_of_items_unsold': 1,\n",
       "  'total_no_of_items': 2,\n",
       "  'total_inventories': 115,\n",
       "  'average_order_value': 12.5,\n",
       "  'total_amount': 25.0,\n",
       "  'total_no_of_orders': 2},\n",
       " {'campaign_id': 499,\n",
       "  'post_comment': 13,\n",
       "  'no_of_items_sold': 3,\n",
       "  'no_of_items_unsold': 1,\n",
       "  'total_no_of_items': 4,\n",
       "  'total_inventories': 400,\n",
       "  'average_order_value': 8870.0,\n",
       "  'total_amount': 8870.0,\n",
       "  'total_no_of_orders': 1},\n",
       " {'campaign_id': 501,\n",
       "  'post_comment': 16,\n",
       "  'no_of_items_sold': 2,\n",
       "  'no_of_items_unsold': 1,\n",
       "  'total_no_of_items': 3,\n",
       "  'total_inventories': 58,\n",
       "  'average_order_value': 390.0,\n",
       "  'total_amount': 390.0,\n",
       "  'total_no_of_orders': 1},\n",
       " {'campaign_id': 502,\n",
       "  'post_comment': 4,\n",
       "  'no_of_items_sold': 2,\n",
       "  'no_of_items_unsold': 2,\n",
       "  'total_no_of_items': 4,\n",
       "  'total_inventories': 900,\n",
       "  'average_order_value': None,\n",
       "  'total_amount': 0,\n",
       "  'total_no_of_orders': 0}]"
      ]
     },
     "execution_count": 24,
     "metadata": {},
     "output_type": "execute_result"
    }
   ],
   "source": [
    "l"
   ]
  },
  {
   "cell_type": "code",
   "execution_count": null,
   "id": "cf702748",
   "metadata": {},
   "outputs": [],
   "source": []
  }
 ],
 "metadata": {
  "kernelspec": {
   "display_name": "Python 3 (ipykernel)",
   "language": "python",
   "name": "python3"
  },
  "language_info": {
   "codemirror_mode": {
    "name": "ipython",
    "version": 3
   },
   "file_extension": ".py",
   "mimetype": "text/x-python",
   "name": "python",
   "nbconvert_exporter": "python",
   "pygments_lexer": "ipython3",
   "version": "3.9.0"
  },
  "toc": {
   "base_numbering": 1,
   "nav_menu": {},
   "number_sections": true,
   "sideBar": true,
   "skip_h1_title": false,
   "title_cell": "Table of Contents",
   "title_sidebar": "Contents",
   "toc_cell": false,
   "toc_position": {},
   "toc_section_display": true,
   "toc_window_display": false
  },
  "varInspector": {
   "cols": {
    "lenName": 16,
    "lenType": 16,
    "lenVar": 40
   },
   "kernels_config": {
    "python": {
     "delete_cmd_postfix": "",
     "delete_cmd_prefix": "del ",
     "library": "var_list.py",
     "varRefreshCmd": "print(var_dic_list())"
    },
    "r": {
     "delete_cmd_postfix": ") ",
     "delete_cmd_prefix": "rm(",
     "library": "var_list.r",
     "varRefreshCmd": "cat(var_dic_list()) "
    }
   },
   "types_to_exclude": [
    "module",
    "function",
    "builtin_function_or_method",
    "instance",
    "_Feature"
   ],
   "window_display": false
  }
 },
 "nbformat": 4,
 "nbformat_minor": 5
}
