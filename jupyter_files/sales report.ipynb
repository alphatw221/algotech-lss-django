{
 "cells": [
  {
   "cell_type": "code",
   "execution_count": 168,
   "id": "1993a78c",
   "metadata": {
    "ExecuteTime": {
     "end_time": "2022-07-04T16:23:34.757420Z",
     "start_time": "2022-07-04T16:23:34.720424Z"
    }
   },
   "outputs": [],
   "source": [
    "import django_initializer\n",
    "from backend.pymongo.mongodb import db\n",
    "from datetime import datetime\n",
    "import arrow\n",
    "from database.lss.campaign import Campaign\n",
    "from backend.pymongo.mongodb import db\n",
    "from channels.layers import get_channel_layer\n",
    "from asgiref.sync import async_to_sync"
   ]
  },
  {
   "cell_type": "code",
   "execution_count": 218,
   "id": "e206aeb7",
   "metadata": {},
   "outputs": [
    {
     "data": {
      "text/plain": [
       "'\\nafter_15min: 2022-07-19T10:16:00+00:00\\nafter_16min: 2022-07-19T10:17:00+00:00\\nafter_1hour: 2022-07-19T11:01:00+00:00\\nafter_61mins: 2022-07-19T11:02:00+00:00\\n'"
      ]
     },
     "metadata": {},
     "output_type": "display_data"
    },
    {
     "data": {
      "text/plain": [
       "[{'user_subscription_id': 218,\n",
       "  'title': 'test 2022-07-19 05:54:19.168968+00:00',\n",
       "  'remind_time': '15 mins'}]"
      ]
     },
     "metadata": {},
     "output_type": "display_data"
    },
    {
     "data": {
      "text/plain": [
       "['ConnectionContextManager',\n",
       " '__class__',\n",
       " '__delattr__',\n",
       " '__dict__',\n",
       " '__dir__',\n",
       " '__doc__',\n",
       " '__eq__',\n",
       " '__format__',\n",
       " '__ge__',\n",
       " '__getattribute__',\n",
       " '__gt__',\n",
       " '__hash__',\n",
       " '__init__',\n",
       " '__init_subclass__',\n",
       " '__le__',\n",
       " '__lt__',\n",
       " '__module__',\n",
       " '__ne__',\n",
       " '__new__',\n",
       " '__reduce__',\n",
       " '__reduce_ex__',\n",
       " '__repr__',\n",
       " '__setattr__',\n",
       " '__sizeof__',\n",
       " '__str__',\n",
       " '__subclasshook__',\n",
       " '__weakref__',\n",
       " '_backup_channel_name',\n",
       " '_brpop_with_clean',\n",
       " '_clean_receive_backup',\n",
       " '_group_key',\n",
       " '_map_channel_keys_to_connection',\n",
       " '_map_channel_to_connection',\n",
       " '_receive_index_generator',\n",
       " '_send_index_generator',\n",
       " '_setup_encryption',\n",
       " 'brpop_timeout',\n",
       " 'capacity',\n",
       " 'channel_capacity',\n",
       " 'channel_name_regex',\n",
       " 'client_prefix',\n",
       " 'close_pools',\n",
       " 'compile_capacities',\n",
       " 'connection',\n",
       " 'consistent_hash',\n",
       " 'crypter',\n",
       " 'decode_hosts',\n",
       " 'deserialize',\n",
       " 'expiry',\n",
       " 'extensions',\n",
       " 'flush',\n",
       " 'get_capacity',\n",
       " 'group_add',\n",
       " 'group_discard',\n",
       " 'group_expiry',\n",
       " 'group_name_regex',\n",
       " 'group_send',\n",
       " 'hosts',\n",
       " 'invalid_name_error',\n",
       " 'make_fernet',\n",
       " 'match_type_and_length',\n",
       " 'new_channel',\n",
       " 'non_local_name',\n",
       " 'pools',\n",
       " 'prefix',\n",
       " 'receive',\n",
       " 'receive_buffer',\n",
       " 'receive_clean_locks',\n",
       " 'receive_cleaners',\n",
       " 'receive_count',\n",
       " 'receive_event_loop',\n",
       " 'receive_lock',\n",
       " 'receive_single',\n",
       " 'ring_size',\n",
       " 'send',\n",
       " 'serialize',\n",
       " 'valid_channel_name',\n",
       " 'valid_channel_names',\n",
       " 'valid_group_name',\n",
       " 'wait_received']"
      ]
     },
     "metadata": {},
     "output_type": "display_data"
    },
    {
     "data": {
      "text/plain": [
       "'user_subscription_id: 218'"
      ]
     },
     "metadata": {},
     "output_type": "display_data"
    },
    {
     "data": {
      "text/plain": [
       "'title: test 2022-07-19 05:54:19.168968+00:00'"
      ]
     },
     "metadata": {},
     "output_type": "display_data"
    },
    {
     "data": {
      "text/plain": [
       "'remind_time: 15 mins'"
      ]
     },
     "metadata": {},
     "output_type": "display_data"
    }
   ],
   "source": [
    "after_15min = arrow.utcnow().replace(second=0, microsecond=0).shift(minutes=+15)\n",
    "after_16min = after_15min.shift(minutes=+1)\n",
    "after_1hour = arrow.utcnow().replace(second=0, microsecond=0).shift(minutes=+60)\n",
    "after_61mins = after_1hour.shift(minutes=+1)\n",
    "display(f\"\"\"\n",
    "after_15min: {after_15min}\n",
    "after_16min: {after_16min}\n",
    "after_1hour: {after_1hour}\n",
    "after_61mins: {after_61mins}\n",
    "\"\"\")\n",
    "# user_subscription = UserSubscription.objects.get(id=218)\n",
    "# M_Campaign.objects.create(start_at=after_15min, end_at=after_1hour, user_subscription=user_subscription, title=F\"test {after_16min}\")\n",
    "campaings_start_after_15mins = list(db.api_campaign.aggregate([\n",
    "    {\n",
    "        \"$match\":{\n",
    "            \"start_at\":{\n",
    "                \"$gte\": after_15min.datetime,\n",
    "                \"$lt\": after_16min.datetime\n",
    "            }\n",
    "        }\n",
    "    },\n",
    "    {\n",
    "        \"$project\":{\n",
    "            \"_id\":0,\n",
    "            \"user_subscription_id\":1,\n",
    "            \"title\":1,\n",
    "            \"remind_time\": \"15 mins\"\n",
    "        }\n",
    "    }\n",
    "]))\n",
    "campaings_start_after_1hour = list(db.api_campaign.aggregate([\n",
    "    {\n",
    "        \"$match\":{\n",
    "            \"start_at\":{\n",
    "                \"$gte\": after_1hour.datetime,\n",
    "                \"$lt\": after_61mins.datetime\n",
    "            }\n",
    "        }\n",
    "    },\n",
    "    {\n",
    "        \"$project\":{\n",
    "            \"_id\":0,\n",
    "            \"user_subscription_id\":1,\n",
    "            \"title\":1,\n",
    "            \"remind_time\": \"an hour\"\n",
    "        }\n",
    "    }\n",
    "]))\n",
    "campaigns = campaings_start_after_15mins + campaings_start_after_1hour\n",
    "display(campaigns)\n",
    "channel_layer = get_channel_layer()\n",
    "display(dir(channel_layer))\n",
    "for campaign in campaigns:\n",
    "    user_subscription_id = campaign['user_subscription_id']\n",
    "    title = campaign['title']\n",
    "    remind_time = campaign['remind_time']\n",
    "    display(f\"user_subscription_id: {user_subscription_id}\")\n",
    "    display(f\"title: {title}\")\n",
    "    display(f\"remind_time: {remind_time}\")\n",
    "#     await channel_layer.group_send(f\"user_subscription_{user_subscription_id}\", {\"type\": \"notification_message\",\"data\":{\"message\":{\"title\": title, \"remind_time\": remind_time}}})"
   ]
  },
  {
   "cell_type": "code",
   "execution_count": 208,
   "id": "b78734d4",
   "metadata": {},
   "outputs": [
    {
     "data": {
      "text/plain": [
       "<Campaign: test 2022-07-19 09:24:52.818358+00:00>"
      ]
     },
     "execution_count": 208,
     "metadata": {},
     "output_type": "execute_result"
    }
   ],
   "source": [
    "from api.models.campaign.campaign import Campaign as M_Campaign\n",
    "from api.models.user.user_subscription import UserSubscription\n",
    "after_16min = arrow.utcnow().shift(minutes=+16).datetime\n",
    "after_1hour = arrow.utcnow().shift(minutes=+60).datetime\n",
    "user_subscription = UserSubscription.objects.get(id=218)\n",
    "M_Campaign.objects.create(start_at=after_16min, end_at=after_1hour, user_subscription=user_subscription, title=F\"test {after_16min}\")"
   ]
  },
  {
   "cell_type": "code",
   "execution_count": 192,
   "id": "49325461",
   "metadata": {},
   "outputs": [],
   "source": [
    "from django_cron.management.commands.runcrons import run_cron_with_cache_check\n",
    "from cron.cron import CampaignReminderCronJob\n",
    "# run_cron_with_cache_check(CampaignReminderCronJob)"
   ]
  },
  {
   "cell_type": "code",
   "execution_count": 193,
   "id": "6319edd6",
   "metadata": {},
   "outputs": [
    {
     "data": {
      "text/plain": [
       "cron.cron.CampaignReminderCronJob"
      ]
     },
     "execution_count": 193,
     "metadata": {},
     "output_type": "execute_result"
    }
   ],
   "source": [
    "CampaignReminderCronJob"
   ]
  },
  {
   "cell_type": "code",
   "execution_count": null,
   "id": "f26b2231",
   "metadata": {},
   "outputs": [],
   "source": []
  }
 ],
 "metadata": {
  "kernelspec": {
   "display_name": "Python 3 (ipykernel)",
   "language": "python",
   "name": "python3"
  },
  "language_info": {
   "codemirror_mode": {
    "name": "ipython",
    "version": 3
   },
   "file_extension": ".py",
   "mimetype": "text/x-python",
   "name": "python",
   "nbconvert_exporter": "python",
   "pygments_lexer": "ipython3",
   "version": "3.9.0"
  },
  "toc": {
   "base_numbering": 1,
   "nav_menu": {},
   "number_sections": true,
   "sideBar": true,
   "skip_h1_title": false,
   "title_cell": "Table of Contents",
   "title_sidebar": "Contents",
   "toc_cell": false,
   "toc_position": {},
   "toc_section_display": true,
   "toc_window_display": false
  },
  "varInspector": {
   "cols": {
    "lenName": 16,
    "lenType": 16,
    "lenVar": 40
   },
   "kernels_config": {
    "python": {
     "delete_cmd_postfix": "",
     "delete_cmd_prefix": "del ",
     "library": "var_list.py",
     "varRefreshCmd": "print(var_dic_list())"
    },
    "r": {
     "delete_cmd_postfix": ") ",
     "delete_cmd_prefix": "rm(",
     "library": "var_list.r",
     "varRefreshCmd": "cat(var_dic_list()) "
    }
   },
   "types_to_exclude": [
    "module",
    "function",
    "builtin_function_or_method",
    "instance",
    "_Feature"
   ],
   "window_display": false
  }
 },
 "nbformat": 4,
 "nbformat_minor": 5
}
