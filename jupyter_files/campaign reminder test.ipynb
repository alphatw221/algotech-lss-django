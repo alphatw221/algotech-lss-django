{
 "cells": [
  {
   "cell_type": "code",
   "execution_count": 7,
   "id": "1993a78c",
   "metadata": {
    "ExecuteTime": {
     "end_time": "2022-07-04T16:23:34.757420Z",
     "start_time": "2022-07-04T16:23:34.720424Z"
    }
   },
   "outputs": [],
   "source": [
    "import django_initializer\n",
    "from backend.pymongo.mongodb import db\n",
    "from datetime import datetime\n",
    "import arrow\n",
    "from database.lss.campaign import Campaign\n",
    "from backend.pymongo.mongodb import db\n",
    "from channels.layers import get_channel_layer\n",
    "from asgiref.sync import async_to_sync\n",
    "from time import sleep"
   ]
  },
  {
   "cell_type": "code",
   "execution_count": 10,
   "id": "e206aeb7",
   "metadata": {},
   "outputs": [],
   "source": [
    "def do():\n",
    "    a = arrow.now()\n",
    "    after_15min = arrow.utcnow().replace(second=0, microsecond=0).shift(minutes=+15)\n",
    "    after_16min = after_15min.shift(minutes=+1)\n",
    "    after_1hour = arrow.utcnow().replace(second=0, microsecond=0).shift(minutes=+60)\n",
    "    after_61mins = after_1hour.shift(minutes=+1)\n",
    "    campaings_start_after_15mins = list(db.api_campaign.aggregate([\n",
    "        {\n",
    "            \"$match\":{\n",
    "                \"start_at\":{\n",
    "                    \"$gte\": after_15min.datetime,\n",
    "                    \"$lt\": after_16min.datetime\n",
    "                }\n",
    "            }\n",
    "        },\n",
    "        {\n",
    "            \"$project\":{\n",
    "                \"_id\":0,\n",
    "                \"user_subscription_id\":1,\n",
    "                \"title\":1,\n",
    "                \"remind_time\": \"15 mins\"\n",
    "            }\n",
    "        }\n",
    "    ]))\n",
    "    campaings_start_after_1hour = list(db.api_campaign.aggregate([\n",
    "        {\n",
    "            \"$match\":{\n",
    "                \"start_at\":{\n",
    "                    \"$gte\": after_1hour.datetime,\n",
    "                    \"$lt\": after_61mins.datetime\n",
    "                }\n",
    "            }\n",
    "        },\n",
    "        {\n",
    "            \"$project\":{\n",
    "                \"_id\":0,\n",
    "                \"user_subscription_id\":1,\n",
    "                \"title\":1,\n",
    "                \"remind_time\": \"an hour\"\n",
    "            }\n",
    "        }\n",
    "    ]))\n",
    "    campaigns = campaings_start_after_15mins + campaings_start_after_1hour\n",
    "    print(campaigns)\n",
    "    channel_layer = get_channel_layer()\n",
    "    b = arrow.now()\n",
    "    # print(b-a)\n",
    "    for campaign in campaigns:\n",
    "        user_subscription_id = campaign['user_subscription_id']\n",
    "        title = campaign['title']\n",
    "        remind_time = campaign['remind_time']\n",
    "        async_to_sync(channel_layer.group_send)(f\"user_subscription_{user_subscription_id}\", {\"type\": \"notification_message\",\"data\":{\"message\":{\"title\": title, \"remind_time\": remind_time}}})"
   ]
  },
  {
   "cell_type": "code",
   "execution_count": 11,
   "id": "f26b2231",
   "metadata": {},
   "outputs": [
    {
     "name": "stdout",
     "output_type": "stream",
     "text": [
      "[]\n",
      "[]\n",
      "[]\n",
      "[]\n",
      "[]\n",
      "[]\n",
      "[]\n",
      "[]\n",
      "[]\n",
      "[]\n",
      "[]\n",
      "[]\n",
      "[]\n",
      "[]\n",
      "[]\n",
      "[]\n",
      "[]\n",
      "[]\n",
      "[]\n",
      "[]\n",
      "[]\n"
     ]
    },
    {
     "ename": "KeyboardInterrupt",
     "evalue": "",
     "output_type": "error",
     "traceback": [
      "\u001b[1;31m--------------------------------------------------\u001b[0m",
      "\u001b[1;31mKeyboardInterrupt\u001b[0mTraceback (most recent call last)",
      "Input \u001b[1;32mIn [11]\u001b[0m, in \u001b[0;36m<cell line: 2>\u001b[1;34m()\u001b[0m\n\u001b[0;32m      1\u001b[0m \u001b[38;5;28;01mwhile\u001b[39;00m \u001b[38;5;28;01mTrue\u001b[39;00m:\n\u001b[0;32m      2\u001b[0m     do()\n\u001b[1;32m----> 3\u001b[0m     \u001b[43msleep\u001b[49m\u001b[43m(\u001b[49m\u001b[38;5;241;43m60\u001b[39;49m\u001b[43m)\u001b[49m\n",
      "\u001b[1;31mKeyboardInterrupt\u001b[0m: "
     ]
    }
   ],
   "source": [
    "\n",
    "while True:\n",
    "    do()\n",
    "    sleep(60)"
   ]
  },
  {
   "cell_type": "code",
   "execution_count": null,
   "id": "4c2da814",
   "metadata": {},
   "outputs": [],
   "source": []
  }
 ],
 "metadata": {
  "kernelspec": {
   "display_name": "Python 3 (ipykernel)",
   "language": "python",
   "name": "python3"
  },
  "language_info": {
   "codemirror_mode": {
    "name": "ipython",
    "version": 3
   },
   "file_extension": ".py",
   "mimetype": "text/x-python",
   "name": "python",
   "nbconvert_exporter": "python",
   "pygments_lexer": "ipython3",
   "version": "3.9.0"
  },
  "toc": {
   "base_numbering": 1,
   "nav_menu": {},
   "number_sections": true,
   "sideBar": true,
   "skip_h1_title": false,
   "title_cell": "Table of Contents",
   "title_sidebar": "Contents",
   "toc_cell": false,
   "toc_position": {},
   "toc_section_display": true,
   "toc_window_display": false
  },
  "varInspector": {
   "cols": {
    "lenName": 16,
    "lenType": 16,
    "lenVar": 40
   },
   "kernels_config": {
    "python": {
     "delete_cmd_postfix": "",
     "delete_cmd_prefix": "del ",
     "library": "var_list.py",
     "varRefreshCmd": "print(var_dic_list())"
    },
    "r": {
     "delete_cmd_postfix": ") ",
     "delete_cmd_prefix": "rm(",
     "library": "var_list.r",
     "varRefreshCmd": "cat(var_dic_list()) "
    }
   },
   "types_to_exclude": [
    "module",
    "function",
    "builtin_function_or_method",
    "instance",
    "_Feature"
   ],
   "window_display": false
  }
 },
 "nbformat": 4,
 "nbformat_minor": 5
}
