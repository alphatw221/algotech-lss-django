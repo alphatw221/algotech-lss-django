{
 "cells": [
  {
   "cell_type": "code",
   "execution_count": 54,
   "metadata": {
    "ExecuteTime": {
     "end_time": "2022-03-27T13:42:48.842351Z",
     "start_time": "2022-03-27T13:42:42.939095Z"
    }
   },
   "outputs": [
    {
     "name": "stdout",
     "output_type": "stream",
     "text": [
      "sellers 數量: 41\n",
      "[]\n"
     ]
    }
   ],
   "source": [
    "import django_initializer\n",
    "from api.models.user.user import User\n",
    "from django.contrib.auth.models import User as AuthUser\n",
    "sellers = User.objects.filter(type=\"user\")\n",
    "    \n",
    "print(\"sellers 數量:\", len(sellers))\n",
    "no_id_auth = []\n",
    "for i in sellers:\n",
    "    auth_user = AuthUser.objects.filter(email=i.email)\n",
    "    if len(auth_user) == 1:\n",
    "        auth_user = auth_user[0]\n",
    "        i.auth_user = auth_user\n",
    "        i.save()\n",
    "            \n",
    "print(no_id_auth)"
   ]
  },
  {
   "cell_type": "code",
   "execution_count": 35,
   "metadata": {
    "ExecuteTime": {
     "end_time": "2022-03-27T09:44:14.405732Z",
     "start_time": "2022-03-27T09:44:13.952317Z"
    }
   },
   "outputs": [
    {
     "name": "stdout",
     "output_type": "stream",
     "text": [
      "None\n"
     ]
    }
   ],
   "source": [
    "auth_user = AuthUser.objects.get(email=\"nick88068@gmail.com\")\n",
    "print(auth_user.id)\n",
    "auth_user.id = 1\n",
    "auth_user.save()"
   ]
  },
  {
   "cell_type": "code",
   "execution_count": 36,
   "metadata": {
    "ExecuteTime": {
     "end_time": "2022-03-27T09:48:48.911325Z",
     "start_time": "2022-03-27T09:48:48.797788Z"
    }
   },
   "outputs": [
    {
     "data": {
      "text/plain": [
       "<User: 連尼克>"
      ]
     },
     "execution_count": 36,
     "metadata": {},
     "output_type": "execute_result"
    }
   ],
   "source": [
    "AuthUser.objects.get(id=1)"
   ]
  },
  {
   "cell_type": "code",
   "execution_count": null,
   "metadata": {},
   "outputs": [],
   "source": []
  }
 ],
 "metadata": {
  "interpreter": {
   "hash": "d9a967f4745e9730c2d256dde0f4f851fe9c3bfc3fc5b07e5fa5fb1ceeb32b5e"
  },
  "kernelspec": {
   "display_name": "Python 3 (ipykernel)",
   "language": "python",
   "name": "python3"
  },
  "language_info": {
   "codemirror_mode": {
    "name": "ipython",
    "version": 3
   },
   "file_extension": ".py",
   "mimetype": "text/x-python",
   "name": "python",
   "nbconvert_exporter": "python",
   "pygments_lexer": "ipython3",
   "version": "3.9.0"
  },
  "toc": {
   "base_numbering": 1,
   "nav_menu": {},
   "number_sections": true,
   "sideBar": true,
   "skip_h1_title": false,
   "title_cell": "Table of Contents",
   "title_sidebar": "Contents",
   "toc_cell": false,
   "toc_position": {},
   "toc_section_display": true,
   "toc_window_display": false
  },
  "varInspector": {
   "cols": {
    "lenName": 16,
    "lenType": 16,
    "lenVar": 40
   },
   "kernels_config": {
    "python": {
     "delete_cmd_postfix": "",
     "delete_cmd_prefix": "del ",
     "library": "var_list.py",
     "varRefreshCmd": "print(var_dic_list())"
    },
    "r": {
     "delete_cmd_postfix": ") ",
     "delete_cmd_prefix": "rm(",
     "library": "var_list.r",
     "varRefreshCmd": "cat(var_dic_list()) "
    }
   },
   "types_to_exclude": [
    "module",
    "function",
    "builtin_function_or_method",
    "instance",
    "_Feature"
   ],
   "window_display": false
  }
 },
 "nbformat": 4,
 "nbformat_minor": 2
}
