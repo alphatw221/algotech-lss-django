{
 "cells": [
  {
   "cell_type": "code",
   "execution_count": 13,
   "id": "57b3680e",
   "metadata": {},
   "outputs": [],
   "source": [
    "import django_initializer\n",
    "import pandas as pd\n",
    "from pandas import json_normalize\n",
    "import arrow\n",
    "from backend.pymongo.mongodb import db"
   ]
  },
  {
   "cell_type": "code",
   "execution_count": 14,
   "id": "42422d7f",
   "metadata": {},
   "outputs": [],
   "source": [
    "def analysis_order(start_time, end_time):\n",
    "    \n",
    "    cursor=db.api_campaign.aggregate([\n",
    "        {\n",
    "            \"$match\":{\n",
    "                \"start_at\":{\n",
    "                    \"$gte\": start_time\n",
    "                },\n",
    "                \"end_at\": {\n",
    "                    \"$lte\": end_time\n",
    "                }\n",
    "            }\n",
    "        },\n",
    "        {\n",
    "            \"$lookup\": {\n",
    "                \"from\": \"api_order\",\n",
    "                \"as\": \"orders\", \n",
    "                'let': {'id': \"$id\" },\n",
    "                \"pipeline\":[\n",
    "                    {\n",
    "                        \"$match\":{\n",
    "                            '$expr': { '$eq': [\"$$id\", \"$campaign_id\"] },\n",
    "                            \"id\":{\"$ne\":None},\n",
    "                        }\n",
    "                    },\n",
    "                    {\"$addFields\": { \"new_type\": \"$status\"}}\n",
    "                ]\n",
    "            },\n",
    "        },\n",
    "        {\n",
    "            \"$lookup\": {\n",
    "                \"from\": \"api_pre_order\",\n",
    "                \"as\": \"pre_orders\", \n",
    "                'let': {'id': \"$id\" },\n",
    "                \"pipeline\":[\n",
    "                    {\n",
    "                        \"$match\":{\n",
    "                            '$expr': { '$eq': [\"$$id\", \"$campaign_id\"] },\n",
    "                            \"id\":{\"$ne\":None},\n",
    "                            \"subtotal\": {\"$ne\" : 0}\n",
    "                        }\n",
    "                    },\n",
    "                    {\"$addFields\": { \"new_type\": \"cart\"}}\n",
    "                ]\n",
    "            },\n",
    "        },\n",
    "        {\"$project\":{\"_id\":0,\"data\":{\"$concatArrays\":[\"$orders\",\"$pre_orders\"]}}},\n",
    "        { \"$unwind\": \"$data\" },\n",
    "        \n",
    "        { \"$group\": {\n",
    "                \"_id\": {\n",
    "                    \"id\": \"$data.campaign_id\",\n",
    "                    \"status\": \"$data.new_type\"\n",
    "                },\n",
    "                \"campaign_id\": {\"$first\": \"$data.campaign_id\"},\n",
    "                \"status\": {\"$first\": \"$data.new_type\"},\n",
    "                \"qty\": {\"$sum\": 1},\n",
    "                \"total\": {\"$sum\": \"$data.total\"}\n",
    "           }\n",
    "        },\n",
    "        {\n",
    "            \"$project\":{\n",
    "                \"_id\":0,\n",
    "\n",
    "            }\n",
    "        },\n",
    "        \n",
    "        { \"$sort\" : { \"campaign_id\" : 1 } }\n",
    "    ])\n",
    "    return list(cursor)"
   ]
  },
  {
   "cell_type": "code",
   "execution_count": 15,
   "id": "e74609e4",
   "metadata": {},
   "outputs": [
    {
     "data": {
      "text/plain": [
       "[{'campaign_id': 494, 'status': 'complete', 'qty': 2, 'total': 322.0},\n",
       " {'campaign_id': 494, 'status': 'review', 'qty': 1, 'total': 161.0},\n",
       " {'campaign_id': 494, 'status': 'cart', 'qty': 10, 'total': 31597.5},\n",
       " {'campaign_id': 495, 'status': 'cart', 'qty': 1, 'total': 15.99},\n",
       " {'campaign_id': 496, 'status': 'complete', 'qty': 1, 'total': 127.92},\n",
       " {'campaign_id': 496, 'status': 'cart', 'qty': 1, 'total': 31.98},\n",
       " {'campaign_id': 497, 'status': 'cart', 'qty': 1, 'total': 15.0},\n",
       " {'campaign_id': 497, 'status': 'complete', 'qty': 2, 'total': 25.0},\n",
       " {'campaign_id': 499, 'status': 'complete', 'qty': 1, 'total': 8870.0},\n",
       " {'campaign_id': 500, 'status': 'complete', 'qty': 2, 'total': 51.0},\n",
       " {'campaign_id': 500, 'status': 'cart', 'qty': 2, 'total': 140.0},\n",
       " {'campaign_id': 501, 'status': 'cart', 'qty': 2, 'total': 1270.0},\n",
       " {'campaign_id': 501, 'status': 'complete', 'qty': 1, 'total': 390.0},\n",
       " {'campaign_id': 502, 'status': 'cart', 'qty': 1, 'total': 19.54},\n",
       " {'campaign_id': 507, 'status': 'cart', 'qty': 2, 'total': 10683.0},\n",
       " {'campaign_id': 509, 'status': 'cart', 'qty': 2, 'total': 1800.0},\n",
       " {'campaign_id': 509, 'status': 'review', 'qty': 1, 'total': 900.0},\n",
       " {'campaign_id': 510, 'status': 'cart', 'qty': 2, 'total': 21.1},\n",
       " {'campaign_id': 510, 'status': 'review', 'qty': 2, 'total': 32.97},\n",
       " {'campaign_id': 510,\n",
       "  'status': 'complete',\n",
       "  'qty': 2,\n",
       "  'total': 64.99000000000001},\n",
       " {'campaign_id': 512, 'status': 'complete', 'qty': 2, 'total': 241.05},\n",
       " {'campaign_id': 512, 'status': 'review', 'qty': 1, 'total': 80.35},\n",
       " {'campaign_id': 512, 'status': 'cart', 'qty': 1, 'total': 0.7000000000000028},\n",
       " {'campaign_id': 513, 'status': 'complete', 'qty': 2, 'total': 1620.0},\n",
       " {'campaign_id': 513, 'status': 'cart', 'qty': 1, 'total': 800.0},\n",
       " {'campaign_id': 515, 'status': 'complete', 'qty': 1, 'total': 11.0},\n",
       " {'campaign_id': 517, 'status': 'complete', 'qty': 1, 'total': 5161.0},\n",
       " {'campaign_id': 517, 'status': 'review', 'qty': 1, 'total': 115.5},\n",
       " {'campaign_id': 517, 'status': 'cart', 'qty': 4, 'total': 457.5},\n",
       " {'campaign_id': 520, 'status': 'complete', 'qty': 1, 'total': 810.0},\n",
       " {'campaign_id': 520, 'status': 'cart', 'qty': 1, 'total': 250.0},\n",
       " {'campaign_id': 521, 'status': 'cart', 'qty': 2, 'total': 1840.0},\n",
       " {'campaign_id': 521, 'status': 'complete', 'qty': 1, 'total': 0.0},\n",
       " {'campaign_id': 522, 'status': 'complete', 'qty': 1, 'total': 10.0},\n",
       " {'campaign_id': 523, 'status': 'complete', 'qty': 1, 'total': 1080.0},\n",
       " {'campaign_id': 523, 'status': 'cart', 'qty': 1, 'total': 980.0},\n",
       " {'campaign_id': 524, 'status': 'complete', 'qty': 1, 'total': 220.0},\n",
       " {'campaign_id': 525, 'status': 'review', 'qty': 1, 'total': 24000.0},\n",
       " {'campaign_id': 525, 'status': 'cart', 'qty': 3, 'total': 4800.0}]"
      ]
     },
     "metadata": {},
     "output_type": "display_data"
    }
   ],
   "source": [
    "start_time = \"2022-06-15\"\n",
    "end_time = \"2022-06-20\"\n",
    "start_time = arrow.get(start_time).replace(hour=0, minute=0, second=0).datetime\n",
    "end_time = arrow.get(end_time).replace(hour=23, minute=59, second=59).datetime\n",
    "report  = analysis_order(start_time, end_time)\n",
    "display(report)"
   ]
  },
  {
   "cell_type": "code",
   "execution_count": 55,
   "id": "3ae6ff8f",
   "metadata": {},
   "outputs": [
    {
     "ename": "KeyError",
     "evalue": "'status'",
     "output_type": "error",
     "traceback": [
      "\u001b[1;31m--------------------------------------------------------------------\u001b[0m",
      "\u001b[1;31mKeyError\u001b[0m                           Traceback (most recent call last)",
      "File \u001b[1;32m~\\AppData\\Local\\pypoetry\\Cache\\virtualenvs\\liveshowseller-67dL19H--py3.9\\lib\\site-packages\\pandas\\core\\indexes\\base.py:3621\u001b[0m, in \u001b[0;36mIndex.get_loc\u001b[1;34m(self, key, method, tolerance)\u001b[0m\n\u001b[0;32m   3620\u001b[0m \u001b[38;5;28;01mtry\u001b[39;00m:\n\u001b[1;32m-> 3621\u001b[0m     \u001b[38;5;28;01mreturn\u001b[39;00m \u001b[38;5;28;43mself\u001b[39;49m\u001b[38;5;241;43m.\u001b[39;49m\u001b[43m_engine\u001b[49m\u001b[38;5;241;43m.\u001b[39;49m\u001b[43mget_loc\u001b[49m\u001b[43m(\u001b[49m\u001b[43mcasted_key\u001b[49m\u001b[43m)\u001b[49m\n\u001b[0;32m   3622\u001b[0m \u001b[38;5;28;01mexcept\u001b[39;00m \u001b[38;5;167;01mKeyError\u001b[39;00m \u001b[38;5;28;01mas\u001b[39;00m err:\n",
      "File \u001b[1;32m~\\AppData\\Local\\pypoetry\\Cache\\virtualenvs\\liveshowseller-67dL19H--py3.9\\lib\\site-packages\\pandas\\_libs\\index.pyx:136\u001b[0m, in \u001b[0;36mpandas._libs.index.IndexEngine.get_loc\u001b[1;34m()\u001b[0m\n",
      "File \u001b[1;32m~\\AppData\\Local\\pypoetry\\Cache\\virtualenvs\\liveshowseller-67dL19H--py3.9\\lib\\site-packages\\pandas\\_libs\\index.pyx:163\u001b[0m, in \u001b[0;36mpandas._libs.index.IndexEngine.get_loc\u001b[1;34m()\u001b[0m\n",
      "File \u001b[1;32mpandas\\_libs\\hashtable_class_helper.pxi:5198\u001b[0m, in \u001b[0;36mpandas._libs.hashtable.PyObjectHashTable.get_item\u001b[1;34m()\u001b[0m\n",
      "File \u001b[1;32mpandas\\_libs\\hashtable_class_helper.pxi:5206\u001b[0m, in \u001b[0;36mpandas._libs.hashtable.PyObjectHashTable.get_item\u001b[1;34m()\u001b[0m\n",
      "\u001b[1;31mKeyError\u001b[0m: 'status'",
      "\nThe above exception was the direct cause of the following exception:\n",
      "\u001b[1;31mKeyError\u001b[0m                           Traceback (most recent call last)",
      "Input \u001b[1;32mIn [55]\u001b[0m, in \u001b[0;36m<cell line: 15>\u001b[1;34m()\u001b[0m\n\u001b[0;32m     12\u001b[0m df \u001b[38;5;241m=\u001b[39m df\u001b[38;5;241m.\u001b[39mgroupby([\u001b[38;5;124m\"\u001b[39m\u001b[38;5;124mcampaign_id\u001b[39m\u001b[38;5;124m\"\u001b[39m])\u001b[38;5;241m.\u001b[39magg({\u001b[38;5;124m'\u001b[39m\u001b[38;5;124mnew_status\u001b[39m\u001b[38;5;124m'\u001b[39m: \u001b[38;5;28mlist\u001b[39m, \u001b[38;5;124m'\u001b[39m\u001b[38;5;124mqty\u001b[39m\u001b[38;5;124m'\u001b[39m: \u001b[38;5;28mlist\u001b[39m, \u001b[38;5;124m'\u001b[39m\u001b[38;5;124mtotal\u001b[39m\u001b[38;5;124m'\u001b[39m:\u001b[38;5;28mlist\u001b[39m})\u001b[38;5;241m.\u001b[39mreset_index()\n\u001b[0;32m     13\u001b[0m df\u001b[38;5;241m.\u001b[39mloc[:, \u001b[38;5;124m\"\u001b[39m\u001b[38;5;124mlack\u001b[39m\u001b[38;5;124m\"\u001b[39m] \u001b[38;5;241m=\u001b[39m df[\u001b[38;5;124m\"\u001b[39m\u001b[38;5;124mnew_status\u001b[39m\u001b[38;5;124m\"\u001b[39m]\u001b[38;5;241m.\u001b[39mapply(checkLack)\n\u001b[1;32m---> 15\u001b[0m df\u001b[38;5;241m.\u001b[39mloc[:, \u001b[38;5;124m\"\u001b[39m\u001b[38;5;124mstatus\u001b[39m\u001b[38;5;124m\"\u001b[39m] \u001b[38;5;241m=\u001b[39m \u001b[43mdf\u001b[49m\u001b[43m[\u001b[49m\u001b[38;5;124;43m\"\u001b[39;49m\u001b[38;5;124;43mstatus\u001b[39;49m\u001b[38;5;124;43m\"\u001b[39;49m\u001b[43m]\u001b[49m\u001b[38;5;241m.\u001b[39mapply(\u001b[38;5;28;01mlambda\u001b[39;00m x:[\u001b[38;5;124m\"\u001b[39m\u001b[38;5;124mpaid\u001b[39m\u001b[38;5;124m\"\u001b[39m, \u001b[38;5;124m\"\u001b[39m\u001b[38;5;124munpaid\u001b[39m\u001b[38;5;124m\"\u001b[39m])\n\u001b[0;32m     16\u001b[0m df\u001b[38;5;241m.\u001b[39mloc[:, \u001b[38;5;124m\"\u001b[39m\u001b[38;5;124mpercentage_of_qty\u001b[39m\u001b[38;5;124m\"\u001b[39m] \u001b[38;5;241m=\u001b[39m df[\u001b[38;5;124m\"\u001b[39m\u001b[38;5;124mqty\u001b[39m\u001b[38;5;124m\"\u001b[39m]\u001b[38;5;241m.\u001b[39mapply(\u001b[38;5;28;01mlambda\u001b[39;00m x: [\u001b[38;5;28mround\u001b[39m(i\u001b[38;5;241m/\u001b[39m\u001b[38;5;28msum\u001b[39m(x)\u001b[38;5;241m*\u001b[39m\u001b[38;5;241m100\u001b[39m,\u001b[38;5;241m2\u001b[39m) \u001b[38;5;28;01mfor\u001b[39;00m i \u001b[38;5;129;01min\u001b[39;00m x])\n\u001b[0;32m     17\u001b[0m df\u001b[38;5;241m.\u001b[39mloc[:, \u001b[38;5;124m\"\u001b[39m\u001b[38;5;124mpercentage_of_total\u001b[39m\u001b[38;5;124m\"\u001b[39m] \u001b[38;5;241m=\u001b[39m df[\u001b[38;5;124m\"\u001b[39m\u001b[38;5;124mtotal\u001b[39m\u001b[38;5;124m\"\u001b[39m]\u001b[38;5;241m.\u001b[39mapply(\u001b[38;5;28;01mlambda\u001b[39;00m x: [\u001b[38;5;28mround\u001b[39m(i\u001b[38;5;241m/\u001b[39m\u001b[38;5;28msum\u001b[39m(x)\u001b[38;5;241m*\u001b[39m\u001b[38;5;241m100\u001b[39m,\u001b[38;5;241m2\u001b[39m) \u001b[38;5;28;01mfor\u001b[39;00m i \u001b[38;5;129;01min\u001b[39;00m x])\n",
      "File \u001b[1;32m~\\AppData\\Local\\pypoetry\\Cache\\virtualenvs\\liveshowseller-67dL19H--py3.9\\lib\\site-packages\\pandas\\core\\frame.py:3505\u001b[0m, in \u001b[0;36mDataFrame.__getitem__\u001b[1;34m(self, key)\u001b[0m\n\u001b[0;32m   3503\u001b[0m \u001b[38;5;28;01mif\u001b[39;00m \u001b[38;5;28mself\u001b[39m\u001b[38;5;241m.\u001b[39mcolumns\u001b[38;5;241m.\u001b[39mnlevels \u001b[38;5;241m>\u001b[39m \u001b[38;5;241m1\u001b[39m:\n\u001b[0;32m   3504\u001b[0m     \u001b[38;5;28;01mreturn\u001b[39;00m \u001b[38;5;28mself\u001b[39m\u001b[38;5;241m.\u001b[39m_getitem_multilevel(key)\n\u001b[1;32m-> 3505\u001b[0m indexer \u001b[38;5;241m=\u001b[39m \u001b[38;5;28;43mself\u001b[39;49m\u001b[38;5;241;43m.\u001b[39;49m\u001b[43mcolumns\u001b[49m\u001b[38;5;241;43m.\u001b[39;49m\u001b[43mget_loc\u001b[49m\u001b[43m(\u001b[49m\u001b[43mkey\u001b[49m\u001b[43m)\u001b[49m\n\u001b[0;32m   3506\u001b[0m \u001b[38;5;28;01mif\u001b[39;00m is_integer(indexer):\n\u001b[0;32m   3507\u001b[0m     indexer \u001b[38;5;241m=\u001b[39m [indexer]\n",
      "File \u001b[1;32m~\\AppData\\Local\\pypoetry\\Cache\\virtualenvs\\liveshowseller-67dL19H--py3.9\\lib\\site-packages\\pandas\\core\\indexes\\base.py:3623\u001b[0m, in \u001b[0;36mIndex.get_loc\u001b[1;34m(self, key, method, tolerance)\u001b[0m\n\u001b[0;32m   3621\u001b[0m     \u001b[38;5;28;01mreturn\u001b[39;00m \u001b[38;5;28mself\u001b[39m\u001b[38;5;241m.\u001b[39m_engine\u001b[38;5;241m.\u001b[39mget_loc(casted_key)\n\u001b[0;32m   3622\u001b[0m \u001b[38;5;28;01mexcept\u001b[39;00m \u001b[38;5;167;01mKeyError\u001b[39;00m \u001b[38;5;28;01mas\u001b[39;00m err:\n\u001b[1;32m-> 3623\u001b[0m     \u001b[38;5;28;01mraise\u001b[39;00m \u001b[38;5;167;01mKeyError\u001b[39;00m(key) \u001b[38;5;28;01mfrom\u001b[39;00m \u001b[38;5;21;01merr\u001b[39;00m\n\u001b[0;32m   3624\u001b[0m \u001b[38;5;28;01mexcept\u001b[39;00m \u001b[38;5;167;01mTypeError\u001b[39;00m:\n\u001b[0;32m   3625\u001b[0m     \u001b[38;5;66;03m# If we have a listlike key, _check_indexing_error will raise\u001b[39;00m\n\u001b[0;32m   3626\u001b[0m     \u001b[38;5;66;03m#  InvalidIndexError. Otherwise we fall through and re-raise\u001b[39;00m\n\u001b[0;32m   3627\u001b[0m     \u001b[38;5;66;03m#  the TypeError.\u001b[39;00m\n\u001b[0;32m   3628\u001b[0m     \u001b[38;5;28mself\u001b[39m\u001b[38;5;241m.\u001b[39m_check_indexing_error(key)\n",
      "\u001b[1;31mKeyError\u001b[0m: 'status'"
     ]
    }
   ],
   "source": [
    "def checkLack(x):\n",
    "    if len(x) == 1 and x[0] == \"paid\":\n",
    "        return \"unpaid\"\n",
    "    elif len(x) == 1 and x[0] == \"unpaid\":\n",
    "        return \"paid\"\n",
    "    else:\n",
    "        return \"\"\n",
    "df = json_normalize(report)\n",
    "df.loc[:,\"new_status\"] = df[\"status\"].apply(lambda x: 'unpaid' if x in ['review', 'cart'] else 'paid')\n",
    "df = df.groupby([\"campaign_id\", \"new_status\"]).agg({'qty': 'sum', 'total': 'sum'}).reset_index()\n",
    "\n",
    "df = df.groupby([\"campaign_id\"]).agg({'new_status': list, 'qty': list, 'total':list}).reset_index()\n",
    "df.loc[:, \"lack\"] = df[\"new_status\"].apply(checkLack)\n",
    "\n",
    "# df.loc[:, \"status\"] = df[\"status\"].apply(lambda x:[\"paid\", \"unpaid\"])\n",
    "df.loc[:, \"percentage_of_qty\"] = df[\"qty\"].apply(lambda x: [round(i/sum(x)*100,2) for i in x])\n",
    "df.loc[:, \"percentage_of_total\"] = df[\"total\"].apply(lambda x: [round(i/sum(x)*100,2) for i in x])"
   ]
  },
  {
   "cell_type": "code",
   "execution_count": null,
   "id": "749ca77f",
   "metadata": {},
   "outputs": [],
   "source": [
    "display(df)"
   ]
  },
  {
   "cell_type": "code",
   "execution_count": 42,
   "id": "1a39e9d2",
   "metadata": {},
   "outputs": [
    {
     "data": {
      "text/plain": [
       "3"
      ]
     },
     "metadata": {},
     "output_type": "display_data"
    }
   ],
   "source": [
    "a = [1,2]\n",
    "display(sum(a))"
   ]
  },
  {
   "cell_type": "code",
   "execution_count": null,
   "id": "30ca9fcb",
   "metadata": {},
   "outputs": [],
   "source": []
  }
 ],
 "metadata": {
  "kernelspec": {
   "display_name": "Python 3 (ipykernel)",
   "language": "python",
   "name": "python3"
  },
  "language_info": {
   "codemirror_mode": {
    "name": "ipython",
    "version": 3
   },
   "file_extension": ".py",
   "mimetype": "text/x-python",
   "name": "python",
   "nbconvert_exporter": "python",
   "pygments_lexer": "ipython3",
   "version": "3.9.0"
  }
 },
 "nbformat": 4,
 "nbformat_minor": 5
}
