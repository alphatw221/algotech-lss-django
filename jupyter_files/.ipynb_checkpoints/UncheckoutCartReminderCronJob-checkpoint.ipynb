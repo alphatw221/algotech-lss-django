{
 "cells": [
  {
   "cell_type": "code",
   "execution_count": 122,
   "id": "5bd5239e",
   "metadata": {},
   "outputs": [],
   "source": [
    "import django_initializer\n",
    "import os\n",
    "import sys\n",
    "\n",
    "import arrow\n",
    "import django\n",
    "from asgiref.sync import async_to_sync\n",
    "from channels.layers import get_channel_layer\n",
    "from django_cron import CronJobBase, Schedule\n",
    "from automation.jobs.send_reminder_messages import send_reminder_messages_job\n",
    "import database\n",
    "\n",
    "import service\n",
    "from api import models\n",
    "import plugins as lss_plugins\n",
    "from django.conf import settings"
   ]
  },
  {
   "cell_type": "code",
   "execution_count": 123,
   "id": "09f8d6b4",
   "metadata": {},
   "outputs": [],
   "source": [
    "class UncheckoutCartReminderCronJob(CronJobBase):\n",
    "    RUN_EVERY_MINS = 0.5\n",
    "    # RUN_AT_TIMES = ['10:00', ]\n",
    "    # RETRY_AFTER_FAILURE_MINS = 60\n",
    "\n",
    "    schedule = Schedule(run_every_mins=RUN_EVERY_MINS,\n",
    "                        # run_at_times=RUN_AT_TIMES,\n",
    "                        # retry_after_failure_mins=RETRY_AFTER_FAILURE_MINS\n",
    "                        )\n",
    "    code = 'uncheckout_cart_reminder'\n",
    "    ALLOW_PARALLEL_RUNS = True\n",
    "\n",
    "    def do(self):\n",
    "        start_time = arrow.now()\n",
    "        utc_time_four_hours_ago = arrow.utcnow().shift(hours=-4)\n",
    "        campaigns_ended_over_4_hours = models.campaign.campaign.Campaign.objects.filter(end_at__gte=utc_time_four_hours_ago.datetime) #, end_at__lt=utc_time_four_hours_ago.shift(minutes=+1).datetime)\n",
    "        campaigns_ended_over_4_hours = models.campaign.campaign.Campaign.objects.filter(id=1419)\n",
    "        carts = [cart for campaign in campaigns_ended_over_4_hours for cart in campaign.carts.all() if len(cart.products) > 0]\n",
    "        for cart in carts:\n",
    "            service.rq.queue.enqueue_general_queue(job=send_reminder_messages_job, cart=cart)\n",
    "        end_time = arrow.now()\n",
    "        print(end_time-start_time)"
   ]
  },
  {
   "cell_type": "code",
   "execution_count": 124,
   "id": "0d6a9d6b",
   "metadata": {},
   "outputs": [
    {
     "ename": "TypeError",
     "evalue": "'Campaign' object is not iterable",
     "output_type": "error",
     "traceback": [
      "\u001b[1;31m---------------------------------------------------------------------------\u001b[0m",
      "\u001b[1;31mTypeError\u001b[0m                                 Traceback (most recent call last)",
      "Input \u001b[1;32mIn [124]\u001b[0m, in \u001b[0;36m<cell line: 1>\u001b[1;34m()\u001b[0m\n\u001b[1;32m----> 1\u001b[0m \u001b[43mUncheckoutCartReminderCronJob\u001b[49m\u001b[43m(\u001b[49m\u001b[43m)\u001b[49m\u001b[38;5;241;43m.\u001b[39;49m\u001b[43mdo\u001b[49m\u001b[43m(\u001b[49m\u001b[43m)\u001b[49m\n",
      "Input \u001b[1;32mIn [123]\u001b[0m, in \u001b[0;36mUncheckoutCartReminderCronJob.do\u001b[1;34m(self)\u001b[0m\n\u001b[0;32m     16\u001b[0m campaigns_ended_over_4_hours \u001b[38;5;241m=\u001b[39m models\u001b[38;5;241m.\u001b[39mcampaign\u001b[38;5;241m.\u001b[39mcampaign\u001b[38;5;241m.\u001b[39mCampaign\u001b[38;5;241m.\u001b[39mobjects\u001b[38;5;241m.\u001b[39mfilter(end_at__gte\u001b[38;5;241m=\u001b[39mutc_time_four_hours_ago\u001b[38;5;241m.\u001b[39mdatetime) \u001b[38;5;66;03m#, end_at__lt=utc_time_four_hours_ago.shift(minutes=+1).datetime)\u001b[39;00m\n\u001b[0;32m     17\u001b[0m campaigns_ended_over_4_hours \u001b[38;5;241m=\u001b[39m models\u001b[38;5;241m.\u001b[39mcampaign\u001b[38;5;241m.\u001b[39mcampaign\u001b[38;5;241m.\u001b[39mCampaign\u001b[38;5;241m.\u001b[39mobjects\u001b[38;5;241m.\u001b[39mget(\u001b[38;5;28mid\u001b[39m\u001b[38;5;241m=\u001b[39m\u001b[38;5;241m1419\u001b[39m)\n\u001b[1;32m---> 18\u001b[0m carts \u001b[38;5;241m=\u001b[39m [cart \u001b[38;5;28;01mfor\u001b[39;00m campaign \u001b[38;5;129;01min\u001b[39;00m campaigns_ended_over_4_hours \u001b[38;5;28;01mfor\u001b[39;00m cart \u001b[38;5;129;01min\u001b[39;00m campaign\u001b[38;5;241m.\u001b[39mcarts\u001b[38;5;241m.\u001b[39mall() \u001b[38;5;28;01mif\u001b[39;00m \u001b[38;5;28mlen\u001b[39m(cart\u001b[38;5;241m.\u001b[39mproducts) \u001b[38;5;241m>\u001b[39m \u001b[38;5;241m0\u001b[39m]\n\u001b[0;32m     19\u001b[0m \u001b[38;5;28;01mfor\u001b[39;00m cart \u001b[38;5;129;01min\u001b[39;00m carts:\n\u001b[0;32m     20\u001b[0m     service\u001b[38;5;241m.\u001b[39mrq\u001b[38;5;241m.\u001b[39mqueue\u001b[38;5;241m.\u001b[39menqueue_general_queue(job\u001b[38;5;241m=\u001b[39msend_reminder_messages_job, cart\u001b[38;5;241m=\u001b[39mcart)\n",
      "\u001b[1;31mTypeError\u001b[0m: 'Campaign' object is not iterable"
     ]
    }
   ],
   "source": [
    "UncheckoutCartReminderCronJob().do()"
   ]
  },
  {
   "cell_type": "code",
   "execution_count": null,
   "id": "07deb84b",
   "metadata": {},
   "outputs": [],
   "source": []
  },
  {
   "cell_type": "code",
   "execution_count": null,
   "id": "b577a116",
   "metadata": {},
   "outputs": [],
   "source": []
  },
  {
   "cell_type": "code",
   "execution_count": null,
   "id": "0305ba9c",
   "metadata": {},
   "outputs": [],
   "source": []
  }
 ],
 "metadata": {
  "kernelspec": {
   "display_name": "Django Shell-Plus",
   "language": "python",
   "name": "django_extensions"
  },
  "language_info": {
   "codemirror_mode": {
    "name": "ipython",
    "version": 3
   },
   "file_extension": ".py",
   "mimetype": "text/x-python",
   "name": "python",
   "nbconvert_exporter": "python",
   "pygments_lexer": "ipython3",
   "version": "3.9.0"
  }
 },
 "nbformat": 4,
 "nbformat_minor": 5
}
