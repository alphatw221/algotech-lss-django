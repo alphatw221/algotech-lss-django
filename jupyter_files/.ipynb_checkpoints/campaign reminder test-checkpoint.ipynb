{
 "cells": [
  {
   "cell_type": "code",
   "execution_count": 119,
   "id": "1993a78c",
   "metadata": {
    "ExecuteTime": {
     "end_time": "2022-07-04T16:23:34.757420Z",
     "start_time": "2022-07-04T16:23:34.720424Z"
    }
   },
   "outputs": [],
   "source": [
    "import django_initializer\n",
    "from backend.pymongo.mongodb import db\n",
    "from datetime import datetime\n",
    "import arrow\n",
    "from database.lss.campaign import Campaign\n",
    "from backend.pymongo.mongodb import db\n",
    "from channels.layers import get_channel_layer\n",
    "from asgiref.sync import async_to_sync"
   ]
  },
  {
   "cell_type": "code",
   "execution_count": 139,
   "id": "e206aeb7",
   "metadata": {},
   "outputs": [
    {
     "data": {
      "text/plain": [
       "'\\nafter_15min: 2022-07-19 06:01:00+00:00\\nafter_16min: 2022-07-19 06:11:45.196154+00:00\\nafter_1hour: 2022-07-19 06:51:00.196154+00:00\\nafter_61mins: 2022-07-19 06:52:45.196154+00:00\\n'"
      ]
     },
     "metadata": {},
     "output_type": "display_data"
    },
    {
     "data": {
      "text/plain": [
       "[]"
      ]
     },
     "metadata": {},
     "output_type": "display_data"
    }
   ],
   "source": [
    "after_15min = arrow.utcnow().replace(second=0, microsecond=0).shift(minutes=+10)\n",
    "after_16min = after_15min.shift(minutes=+1)\n",
    "after_1hour = arrow.utcnow().replace(second=0, microsecond=0).shift(minutes=+60)\n",
    "after_61mins = after_1hour.shift(minutes=+1)\n",
    "display(f\"\"\"\n",
    "after_15min: {after_15min}\n",
    "after_16min: {after_16min}\n",
    "after_1hour: {after_1hour}\n",
    "after_61mins: {after_61mins}\n",
    "\"\"\")\n",
    "# user_subscription = UserSubscription.objects.get(id=218)\n",
    "# M_Campaign.objects.create(start_at=after_15min, end_at=after_1hour, user_subscription=user_subscription, title=F\"test {after_16min}\")\n",
    "campaings_start_after_15mins = list(db.api_campaign.aggregate([\n",
    "    {\n",
    "        \"$match\":{\n",
    "            \"start_at\":{\n",
    "                \"$gte\": after_15min.datetime,\n",
    "                \"$lt\": after_16min.datetime\n",
    "            }\n",
    "        }\n",
    "    },\n",
    "    {\n",
    "        \"$project\":{\n",
    "            \"_id\":0,\n",
    "            \"user_subscription_id\":1,\n",
    "            \"title\":1,\n",
    "            \"remind_time\": \"15 mins\"\n",
    "        }\n",
    "    }\n",
    "]))\n",
    "campaings_start_after_1hour = list(db.api_campaign.aggregate([\n",
    "    {\n",
    "        \"$match\":{\n",
    "            \"start_at\":{\n",
    "                \"$gte\": after_1hour.datetime,\n",
    "                \"$lt\": after_61mins.datetime\n",
    "            }\n",
    "        }\n",
    "    },\n",
    "    {\n",
    "        \"$project\":{\n",
    "            \"_id\":0,\n",
    "            \"user_subscription_id\":1,\n",
    "            \"title\":1,\n",
    "            \"remind_time\": \"an hour\"\n",
    "        }\n",
    "    }\n",
    "]))\n",
    "campaigns = campaings_start_after_15mins + campaings_start_after_1hour\n",
    "display(campaigns)\n",
    "channel_layer = get_channel_layer()\n",
    "for campaign in campaigns:\n",
    "    user_subscription_id = campaign['user_subscription_id']\n",
    "    title = campaign['title']\n",
    "    remind_time = campaign['remind_time']\n",
    "    display(f\"user_subscription_id: {user_subscription_id}\")\n",
    "    display(f\"title: {title}\")\n",
    "    display(f\"remind_time: {remind_time}\")\n",
    "    await channel_layer.group_send(f\"user_subscription_{user_subscription_id}\", {\"type\": \"notification_message\",\"data\":{\"message\":{\"title\": title, \"remind_time\": remind_time}}})"
   ]
  },
  {
   "cell_type": "code",
   "execution_count": 123,
   "id": "b78734d4",
   "metadata": {},
   "outputs": [
    {
     "data": {
      "text/plain": [
       "<Campaign: test 2022-07-19 05:54:19.168968+00:00>"
      ]
     },
     "execution_count": 123,
     "metadata": {},
     "output_type": "execute_result"
    }
   ],
   "source": [
    "from api.models.campaign.campaign import Campaign as M_Campaign\n",
    "from api.models.user.user_subscription import UserSubscription\n",
    "after_16min = arrow.utcnow().shift(minutes=+16).datetime\n",
    "after_1hour = arrow.utcnow().shift(minutes=+60).datetime\n",
    "user_subscription = UserSubscription.objects.get(id=218)\n",
    "M_Campaign.objects.create(start_at=after_16min, end_at=after_1hour, user_subscription=user_subscription, title=F\"test {after_16min}\")"
   ]
  },
  {
   "cell_type": "code",
   "execution_count": null,
   "id": "49325461",
   "metadata": {},
   "outputs": [],
   "source": []
  }
 ],
 "metadata": {
  "kernelspec": {
   "display_name": "Python 3 (ipykernel)",
   "language": "python",
   "name": "python3"
  },
  "language_info": {
   "codemirror_mode": {
    "name": "ipython",
    "version": 3
   },
   "file_extension": ".py",
   "mimetype": "text/x-python",
   "name": "python",
   "nbconvert_exporter": "python",
   "pygments_lexer": "ipython3",
   "version": "3.9.0"
  },
  "toc": {
   "base_numbering": 1,
   "nav_menu": {},
   "number_sections": true,
   "sideBar": true,
   "skip_h1_title": false,
   "title_cell": "Table of Contents",
   "title_sidebar": "Contents",
   "toc_cell": false,
   "toc_position": {},
   "toc_section_display": true,
   "toc_window_display": false
  },
  "varInspector": {
   "cols": {
    "lenName": 16,
    "lenType": 16,
    "lenVar": 40
   },
   "kernels_config": {
    "python": {
     "delete_cmd_postfix": "",
     "delete_cmd_prefix": "del ",
     "library": "var_list.py",
     "varRefreshCmd": "print(var_dic_list())"
    },
    "r": {
     "delete_cmd_postfix": ") ",
     "delete_cmd_prefix": "rm(",
     "library": "var_list.r",
     "varRefreshCmd": "cat(var_dic_list()) "
    }
   },
   "types_to_exclude": [
    "module",
    "function",
    "builtin_function_or_method",
    "instance",
    "_Feature"
   ],
   "window_display": false
  }
 },
 "nbformat": 4,
 "nbformat_minor": 5
}
