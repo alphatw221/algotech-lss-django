{
 "cells": [
  {
   "cell_type": "code",
   "execution_count": 242,
   "id": "e24b6325",
   "metadata": {
    "collapsed": true
   },
   "outputs": [],
   "source": [
    "import django_initializer\n",
    "from datetime import datetime\n",
    "import arrow\n",
    "from api.utils.common.verify import Verify\n",
    "from api.utils.error_handle.error.api_error import ApiVerifyError\n",
    "from backend.pymongo.mongodb import db\n",
    "import openpyxl\n",
    "import xlsxwriter, os.path \n",
    "from api.models.campaign.campaign import Campaign\n",
    "from api.models.campaign.campaign_comment import CampaignComment\n",
    "from api.models.campaign.campaign_product import CampaignProduct\n",
    "from api.models.order.order import Order\n",
    "from api.models.order.pre_order import PreOrder\n",
    "from backend.pymongo.mongodb import db\n",
    "\n",
    "import pandas as pd\n",
    "from django.db.models import Count, Q, Sum, ExpressionWrapper, IntegerField, F, Subquery, PositiveIntegerField\n",
    "class SubqueryCount(Subquery):\n",
    "    template = \"(SELECT count(*) FROM (%(subquery)s) _count)\"\n",
    "    output_field = PositiveIntegerField()\n",
    "\n",
    "\n",
    "class SubquerySum(Subquery):\n",
    "    template = '(SELECT sum(_sum.\"%(column)s\") FROM (%(subquery)s) _sum)'\n",
    "\n",
    "    def __init__(self, queryset, column, output_field=None, **extra):\n",
    "        if output_field is None:\n",
    "            output_field = queryset.model._meta.get_field(column)\n",
    "        super().__init__(queryset, output_field, column=column, **extra)"
   ]
  },
  {
   "cell_type": "code",
   "execution_count": 253,
   "id": "ee7ef698",
   "metadata": {
    "collapsed": true
   },
   "outputs": [],
   "source": [
    "class SalesReport:\n",
    "    def __init__(self):\n",
    "        pass\n",
    "    \n",
    "    @classmethod\n",
    "    def change_time_format(cls, time):\n",
    "        return time.format('YYYY-MM-DD HH:mm:ss')\n",
    "    @classmethod\n",
    "    def Q2D(cls, queryset):\n",
    "        return pd.DataFrame.from_records(queryset.values())\n",
    "    \n",
    "    @classmethod\n",
    "    def get_period_campaign_queryset(cls, start_time, end_time):\n",
    "        beginning_of_day_of_start_time = cls.change_time_format(arrow.get(start_time).replace(hour=0, minute=0, second=0))\n",
    "        end_of_day_of_end_time = cls.change_time_format(arrow.get(end_time).replace(hour=23, minute=59, second=59))\n",
    "        \n",
    "        campaign_qs = Campaign.objects.filter(start_at__gte=beginning_of_day_of_start_time, end_at__lte=end_of_day_of_end_time)\n",
    "        campaign_qs = campaign_qs.annotate(\n",
    "            post_comment = Count(\"comments\"),\n",
    "            \n",
    "        )\n",
    "        campaign_product_qs = CampaignProduct.objects.filter(Q(campaign__start_at__gte=beginning_of_day_of_start_time)&Q(campaign__end_at__lte=end_of_day_of_end_time))\n",
    "        campaign_comment_qs = CampaignComment.objects.filter(Q(campaign__start_at__gte=beginning_of_day_of_start_time)&Q(campaign__end_at__lte=end_of_day_of_end_time))\n",
    "        pre_order_qs = PreOrder.objects.filter(Q(campaign__start_at__gte=beginning_of_day_of_start_time)&Q(campaign__end_at__lte=end_of_day_of_end_time))\n",
    "        order_qs = Order.objects.filter(Q(campaign__start_at__gte=beginning_of_day_of_start_time)&Q(campaign__end_at__lte=end_of_day_of_end_time))\n",
    "        \n",
    "        campaign_df = cls.Q2D(campaign_qs)\n",
    "        campaign_product_df = cls.Q2D(campaign_product_qs)\n",
    "        campaign_comment_df = cls.Q2D(campaign_comment_qs)\n",
    "        pre_order_df = cls.Q2D(pre_order_qs)\n",
    "        order_df = cls.Q2D(order_qs)\n",
    "        \n",
    "        return campaign_df, campaign_product_df, campaign_comment_df, pre_order_df, order_df\n",
    "    \n",
    "    def get_basic_report():\n",
    "        pass"
   ]
  },
  {
   "cell_type": "code",
   "execution_count": 281,
   "id": "79693a53",
   "metadata": {},
   "outputs": [
    {
     "data": {
      "text/plain": [
       "datetime.datetime(2022, 6, 15, 0, 0, tzinfo=tzutc())"
      ]
     },
     "metadata": {},
     "output_type": "display_data"
    },
    {
     "data": {
      "text/plain": [
       "datetime.datetime(2022, 6, 15, 23, 59, 59, tzinfo=tzutc())"
      ]
     },
     "metadata": {},
     "output_type": "display_data"
    }
   ],
   "source": [
    "start_time = \"2022-06-15 00:00:00\"\n",
    "end_time = \"2022-06-15\"\n",
    "beginning_of_day_of_start_time = arrow.get(start_time).replace(hour=0, minute=0, second=0).datetime\n",
    "end_of_day_of_end_time = arrow.get(end_time).replace(hour=23, minute=59, second=59).datetime\n",
    "display(beginning_of_day_of_start_time)\n",
    "display(end_of_day_of_end_time)\n",
    "cursor=db.api_campaign.aggregate([\n",
    "    {\n",
    "        \"$match\":{\n",
    "            \"start_at\":{\n",
    "                \"$gte\":beginning_of_day_of_start_time\n",
    "            },\n",
    "            \"end_at\":{\n",
    "                \"$lte\":end_of_day_of_end_time\n",
    "            }\n",
    "        }\n",
    "    },\n",
    "    {\n",
    "        \"$lookup\": {\n",
    "            \"from\": \"api_campaign_comment\",\n",
    "            \"as\": \"campaign_comment\",\n",
    "            'let': {'id': \"$id\" },\n",
    "            \"pipeline\":[\n",
    "                {\"$match\":{\n",
    "                    '$expr': { '$eq': [\"$$id\", \"$campaign_id\"] },\n",
    "                    \"id\":{\"$ne\":None}}\n",
    "                }\n",
    "            ]\n",
    "        },\n",
    "    },\n",
    "    {\n",
    "        \"$lookup\": {\n",
    "            \"from\": \"api_campaign_product\",\n",
    "            \"as\": \"campaign_product\",\n",
    "            'let': {'id': \"$id\" },\n",
    "            \"pipeline\":[\n",
    "                {\"$match\":{\n",
    "                    '$expr': { '$eq': [\"$$id\", \"$campaign_id\"] },\n",
    "                    \"id\":{\"$ne\":None}}\n",
    "                }\n",
    "            ]\n",
    "        },\n",
    "    },\n",
    "    {\n",
    "        \"$project\":{\n",
    "            \"_id\":0,\n",
    "            \"id\": 1,\n",
    "            \"post_comments\": {\"$size\":\"$campaign_comment.campaign_id\"},\n",
    "            \"total_no_of_items\": {\"$size\":\"$campaign_product.campaign_id\"}\n",
    "        }\n",
    "    }\n",
    "])\n",
    "l = list(cursor)"
   ]
  },
  {
   "cell_type": "code",
   "execution_count": 282,
   "id": "8affca1b",
   "metadata": {},
   "outputs": [
    {
     "data": {
      "text/plain": [
       "[{'id': 495, 'post_comments': 2},\n",
       " {'id': 496, 'post_comments': 4},\n",
       " {'id': 497, 'post_comments': 14},\n",
       " {'id': 499, 'post_comments': 13},\n",
       " {'id': 501, 'post_comments': 16},\n",
       " {'id': 502, 'post_comments': 4}]"
      ]
     },
     "execution_count": 282,
     "metadata": {},
     "output_type": "execute_result"
    }
   ],
   "source": [
    "l"
   ]
  },
  {
   "cell_type": "code",
   "execution_count": null,
   "id": "c2805a82",
   "metadata": {},
   "outputs": [],
   "source": []
  },
  {
   "cell_type": "code",
   "execution_count": null,
   "id": "1277903e",
   "metadata": {},
   "outputs": [],
   "source": []
  },
  {
   "cell_type": "code",
   "execution_count": null,
   "id": "36d558bd",
   "metadata": {},
   "outputs": [],
   "source": []
  }
 ],
 "metadata": {
  "kernelspec": {
   "display_name": "Python 3 (ipykernel)",
   "language": "python",
   "name": "python3"
  },
  "language_info": {
   "codemirror_mode": {
    "name": "ipython",
    "version": 3
   },
   "file_extension": ".py",
   "mimetype": "text/x-python",
   "name": "python",
   "nbconvert_exporter": "python",
   "pygments_lexer": "ipython3",
   "version": "3.9.0"
  }
 },
 "nbformat": 4,
 "nbformat_minor": 5
}
