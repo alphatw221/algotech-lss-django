{
 "cells": [
  {
   "cell_type": "code",
   "execution_count": 7,
   "id": "5dc1b9c0",
   "metadata": {},
   "outputs": [],
   "source": [
    "import django_initializer\n",
    "from api.models.user.user import User\n",
    "from django.contrib.auth.models import User as AuthUser\n",
    "from json import loads, dumps\n",
    "from collections import OrderedDict\n",
    "import json\n",
    "import lib\n",
    "import re\n",
    "import service\n",
    "from api.models.campaign.campaign import Campaign\n",
    "from api.models.user.user_subscription import UserSubscription\n",
    "from service.web_crawler.facebook_shared_list_crawler import FacebookSharedListCrawler\n",
    "def to_dict(input_ordered_dict):\n",
    "    return loads(dumps(input_ordered_dict))"
   ]
  },
  {
   "cell_type": "code",
   "execution_count": 8,
   "id": "a46d5587",
   "metadata": {},
   "outputs": [
    {
     "ename": "NameError",
     "evalue": "name 'facebook_page_username' is not defined",
     "output_type": "error",
     "traceback": [
      "\u001b[0;31m---------------------------------------------------------------------------\u001b[0m",
      "\u001b[0;31mNameError\u001b[0m                                 Traceback (most recent call last)",
      "Input \u001b[0;32mIn [8]\u001b[0m, in \u001b[0;36m<cell line: 5>\u001b[0;34m()\u001b[0m\n\u001b[1;32m      3\u001b[0m username \u001b[38;5;241m=\u001b[39m lucky_draw\u001b[38;5;241m.\u001b[39mcampaign\u001b[38;5;241m.\u001b[39mfacebook_page\u001b[38;5;241m.\u001b[39musername\n\u001b[1;32m      4\u001b[0m post_id \u001b[38;5;241m=\u001b[39m lucky_draw\u001b[38;5;241m.\u001b[39mcampaign\u001b[38;5;241m.\u001b[39mfacebook_campaign\u001b[38;5;241m.\u001b[39mget(\u001b[38;5;124m\"\u001b[39m\u001b[38;5;124mpost_id\u001b[39m\u001b[38;5;124m\"\u001b[39m, \u001b[38;5;124m\"\u001b[39m\u001b[38;5;124m\"\u001b[39m)\n\u001b[0;32m----> 5\u001b[0m fb_crawler \u001b[38;5;241m=\u001b[39m FacebookSharedListCrawler(\u001b[43mfacebook_page_username\u001b[49m, post_id)\n\u001b[1;32m      6\u001b[0m shared_user_name_set \u001b[38;5;241m=\u001b[39m fb_crawler\u001b[38;5;241m.\u001b[39mstart()\n\u001b[1;32m      7\u001b[0m \u001b[38;5;28mprint\u001b[39m(shared_user_name_set)\n",
      "\u001b[0;31mNameError\u001b[0m: name 'facebook_page_username' is not defined"
     ]
    }
   ],
   "source": [
    "campaign_lucky_draw_id = \"1505\"\n",
    "lucky_draw = lib.util.verify.Verify.get_lucky_draw(campaign_lucky_draw_id)\n",
    "username = lucky_draw.campaign.facebook_page.username\n",
    "post_id = lucky_draw.campaign.facebook_campaign.get(\"post_id\", \"\")\n",
    "fb_crawler = FacebookSharedListCrawler(username, post_id)\n",
    "shared_user_name_set = fb_crawler.start()\n",
    "print(shared_user_name_set)"
   ]
  },
  {
   "cell_type": "code",
   "execution_count": null,
   "id": "38e57fc3",
   "metadata": {},
   "outputs": [],
   "source": [
    "page_username = \"kuai.mai.2021\"\n",
    "target_post_id = \"517999680166258\"\n",
    "language = \"zh_hant\"\n",
    "langauag_map = {\n",
    "    \"zh_hant\": \"中文(台灣)\",\n",
    "    \"en\": \"English (US)\",\n",
    "    \"zh_hans\": \"中文(简体)\",\n",
    "    \"vi\": \"Tiếng Việt\"\n",
    "}\n",
    "fb_crawler = FacebookSharedListCrawler(page_username, target_post_id, lang=language)"
   ]
  },
  {
   "cell_type": "code",
   "execution_count": null,
   "id": "03e6ca23",
   "metadata": {},
   "outputs": [],
   "source": [
    "data = fb_crawler.start()\n",
    "print(data)\n"
   ]
  },
  {
   "cell_type": "code",
   "execution_count": null,
   "id": "eb7cba04",
   "metadata": {},
   "outputs": [],
   "source": []
  }
 ],
 "metadata": {
  "celltoolbar": "Raw Cell Format",
  "kernelspec": {
   "display_name": "Python 3 (ipykernel)",
   "language": "python",
   "name": "python3"
  },
  "language_info": {
   "codemirror_mode": {
    "name": "ipython",
    "version": 3
   },
   "file_extension": ".py",
   "mimetype": "text/x-python",
   "name": "python",
   "nbconvert_exporter": "python",
   "pygments_lexer": "ipython3",
   "version": "3.9.13"
  }
 },
 "nbformat": 4,
 "nbformat_minor": 5
}
