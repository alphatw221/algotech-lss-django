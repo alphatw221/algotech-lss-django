{
 "cells": [
  {
   "cell_type": "code",
   "execution_count": 5,
   "metadata": {
    "ExecuteTime": {
     "end_time": "2022-03-27T13:42:48.842351Z",
     "start_time": "2022-03-27T13:42:42.939095Z"
    }
   },
   "outputs": [
    {
     "data": {
      "text/plain": [
       "<QuerySet [<Campaign: fff>]>"
      ]
     },
     "execution_count": 5,
     "metadata": {},
     "output_type": "execute_result"
    }
   ],
   "source": [
    "import django_initializer\n",
    "from api.models.user.user import User\n",
    "from django.contrib.auth.models import User as AuthUser\n",
    "from json import loads, dumps\n",
    "from collections import OrderedDict\n",
    "import json\n",
    "import re\n",
    "from api.models.campaign.campaign import Campaign\n",
    "from api.models.user.user_subscription import UserSubscription\n",
    "def to_dict(input_ordered_dict):\n",
    "    return loads(dumps(input_ordered_dict))"
   ]
  },
  {
   "cell_type": "code",
   "execution_count": 34,
   "metadata": {},
   "outputs": [
    {
     "name": "stdout",
     "output_type": "stream",
     "text": [
      "-------------------------------\n",
      "{'is_direct_payment': 1, 'direct_payment_button_title': 'Direct Payment', 'accounts': {'11': {'direct_payment_number': '11', 'direct_payment_mode': '22', 'direct_payment_name': '123', 'direct_payment_note': '22', 'direct_payment_require_customer_return': 0, 'image': '/1/payment/direct_payment/prize 2022-02-15 150845.png'}}}\n",
      "{'is_first_data': 1, 'first_data_storeId': '4530042983', 'first_data_sharedSecret': 'Xe33QM7UTs', 'first_data_currency': '702', 'first_data_timezone': 'Asia/Singapore'}\n",
      "{'is_pay_mongo': 1, 'pay_mongo_secret': 'sk_test_kXkD4NBMYZixy8dJ8GV6br4u'}\n",
      "-------------------------------\n",
      "{'is_direct_payment': 1, 'direct_payment_button_title': 'Direct Payment', 'accounts': {'02200343826': {'direct_payment_number': '02200343826', 'direct_payment_mode': 'HONG LEONG BANK', 'direct_payment_name': 'ARIMEE (M) SDN BHD', 'direct_payment_note': 'UPLOAD RECEIPT', 'direct_payment_require_customer_return': 1, 'image': '/2/payment/direct_payment/PAYMENT SDN BHD.jpg'}}}\n",
      "-------------------------------\n",
      "-------------------------------\n",
      "-------------------------------\n",
      "-------------------------------\n",
      "-------------------------------\n",
      "-------------------------------\n",
      "{'is_direct_payment': 1, 'direct_payment_button_title': 'Direct Payment', 'accounts': {'008068003508': {'direct_payment_number': '008068003508', 'direct_payment_mode': 'Banco De Oro Inc.', 'direct_payment_name': 'Freris Trading and General Merchandise', 'direct_payment_note': '', 'direct_payment_require_customer_return': 0, 'image': ''}, '09171123125': {'direct_payment_number': '09171123125', 'direct_payment_mode': 'Gcash', 'direct_payment_name': 'Jjoycelyn Flojo', 'direct_payment_note': '', 'direct_payment_require_customer_return': 0, 'image': '/9/payment/direct_payment/GCash 3125 QR.jpg'}}}\n",
      "-------------------------------\n",
      "-------------------------------\n",
      "-------------------------------\n",
      "{'is_direct_payment': 1, 'direct_payment_button_title': 'Direct Payment', 'accounts': {'7799': {'direct_payment_number': '7799', 'direct_payment_mode': 'LinePay', 'direct_payment_name': 'nick', 'direct_payment_note': 'no', 'direct_payment_require_customer_return': 1, 'image': '/14/payment/direct_payment/QR code.png'}, '12345': {'direct_payment_number': '12345', 'direct_payment_mode': 'df bank', 'direct_payment_name': 'Algotech Pte Ltd', 'direct_payment_note': '', 'direct_payment_require_customer_return': 0, 'image': '/14/payment/direct_payment/QR code.png'}}}\n",
      "-------------------------------\n",
      "-------------------------------\n",
      "-------------------------------\n",
      "-------------------------------\n",
      "{'is_direct_payment': 1, 'direct_payment_button_title': 'Direct Payment', 'accounts': {'7799': {'direct_payment_number': '7799', 'direct_payment_mode': 'LinePay', 'direct_payment_name': 'nick', 'direct_payment_note': 'no', 'direct_payment_require_customer_return': 1, 'image': '/14/payment/direct_payment/QR code.png'}, '12345': {'direct_payment_number': '12345', 'direct_payment_mode': 'df bank', 'direct_payment_name': 'Algotech Pte Ltd', 'direct_payment_note': '', 'direct_payment_require_customer_return': 0, 'image': '/14/payment/direct_payment/QR code.png'}}}\n",
      "-------------------------------\n",
      "-------------------------------\n",
      "-------------------------------\n",
      "-------------------------------\n",
      "-------------------------------\n",
      "-------------------------------\n",
      "-------------------------------\n",
      "-------------------------------\n",
      "-------------------------------\n",
      "-------------------------------\n",
      "-------------------------------\n",
      "-------------------------------\n",
      "-------------------------------\n",
      "-------------------------------\n",
      "-------------------------------\n",
      "-------------------------------\n",
      "-------------------------------\n",
      "-------------------------------\n",
      "-------------------------------\n",
      "-------------------------------\n",
      "-------------------------------\n",
      "-------------------------------\n",
      "-------------------------------\n",
      "-------------------------------\n",
      "-------------------------------\n",
      "-------------------------------\n",
      "-------------------------------\n",
      "-------------------------------\n",
      "-------------------------------\n",
      "-------------------------------\n",
      "-------------------------------\n",
      "-------------------------------\n",
      "-------------------------------\n",
      "-------------------------------\n",
      "-------------------------------\n",
      "-------------------------------\n",
      "-------------------------------\n",
      "-------------------------------\n",
      "-------------------------------\n",
      "-------------------------------\n",
      "-------------------------------\n",
      "-------------------------------\n",
      "-------------------------------\n",
      "-------------------------------\n",
      "-------------------------------\n",
      "-------------------------------\n",
      "-------------------------------\n",
      "-------------------------------\n",
      "-------------------------------\n",
      "-------------------------------\n",
      "-------------------------------\n",
      "-------------------------------\n",
      "-------------------------------\n",
      "-------------------------------\n",
      "-------------------------------\n",
      "-------------------------------\n",
      "-------------------------------\n",
      "-------------------------------\n",
      "-------------------------------\n",
      "-------------------------------\n",
      "-------------------------------\n",
      "-------------------------------\n",
      "-------------------------------\n",
      "-------------------------------\n",
      "-------------------------------\n",
      "-------------------------------\n",
      "-------------------------------\n",
      "-------------------------------\n",
      "-------------------------------\n",
      "-------------------------------\n",
      "-------------------------------\n"
     ]
    }
   ],
   "source": [
    "for obj in UserSubscription.objects.all():\n",
    "    direct_payment = to_dict(obj.meta_payment.get(\"direct_payment\", {}))\n",
    "    first_data = to_dict(obj.meta_payment.get(\"firstdata\", {}))\n",
    "    pay_mongo = to_dict(obj.meta_payment.get(\"paymongo\", {}))\n",
    "    print(\"-------------------------------\")\n",
    "    if direct_payment:\n",
    "        string_dp = json.dumps(direct_payment)\n",
    "        regex = re.compile(r\"distinct_payment\")\n",
    "        string_dp = regex.sub(\"direct_payment\", string_dp)\n",
    "        new_dict = json.loads(string_dp)\n",
    "        \n",
    "        obj.meta_payment[\"direct_payment\"] = new_dict\n",
    "        print(new_dict)\n",
    "        \n",
    "    if first_data:\n",
    "        string_dp = json.dumps(first_data)\n",
    "        regex = re.compile(r\"firstdata\")\n",
    "        string_dp = regex.sub(\"first_data\", string_dp)\n",
    "        regex = re.compile(r\"ipg\")\n",
    "        string_dp = regex.sub(\"first_data\", string_dp)\n",
    "        new_dict = json.loads(string_dp) \n",
    "        \n",
    "        obj.meta_payment[\"first_data\"] = new_dict\n",
    "        del obj.meta_payment[\"firstdata\"]\n",
    "        print(new_dict)\n",
    "    if pay_mongo:\n",
    "        string_dp = json.dumps(pay_mongo)\n",
    "        regex = re.compile(r\"paymongo\")\n",
    "        string_dp = regex.sub(\"pay_mongo\", string_dp)\n",
    "        new_dict = json.loads(string_dp)\n",
    "        obj.meta_payment[\"pay_mongo\"] = new_dict\n",
    "        del obj.meta_payment[\"paymongo\"]\n",
    "        print(new_dict)\n",
    "    obj.save()\n",
    "    \n",
    "            \n",
    "    "
   ]
  },
  {
   "cell_type": "markdown",
   "metadata": {},
   "source": [
    "# edit campaign payment"
   ]
  },
  {
   "cell_type": "code",
   "execution_count": 26,
   "metadata": {},
   "outputs": [
    {
     "name": "stdout",
     "output_type": "stream",
     "text": [
      "<QuerySet [<Campaign: 20220222 test>, <Campaign: 220222 Edmark Live Mall Demo>, <Campaign: 123>, <Campaign: Special deal! TinyTAN Message Chocolates Live Selling night!>, <Campaign: None>, <Campaign: None>, <Campaign: Test Bug Reported by Vanessa>, <Campaign: BTS test>, <Campaign: None>, <Campaign: 220225 BTS test>, <Campaign: Stress Test>, <Campaign: 123213>, <Campaign: ARIMEE FB LIVE ORDER, 15th April 2021>, <Campaign: ARIMEE FB LIVE ORDER, 22nd April 2021>, <Campaign: ARIMEE FB LIVE ORDER, 29th April 2021>, <Campaign: ARIMEE FB LIVE ORDER, 6th MAY 2021>, <Campaign: ARIMEE FB LIVE ORDER, 22nd May 2021>, <Campaign: ARIMEE FB LIVE ORDER, 10th June 2021>, <Campaign: ARIMEE FB LIVE ORDER, 16th June 2021 (PART 1)>, <Campaign: ARIMEE FB LIVE ORDER, 16th June 2021 (PART 2)>, '...(remaining elements truncated)...']>\n"
     ]
    }
   ],
   "source": [
    "obj2 = Campaign.objects.all()\n",
    "print(obj2)"
   ]
  },
  {
   "cell_type": "code",
   "execution_count": 29,
   "metadata": {},
   "outputs": [
    {
     "name": "stdout",
     "output_type": "stream",
     "text": [
      "-------------------------------\n",
      "-------------------------------\n",
      "-------------------------------\n",
      "-------------------------------\n",
      "-------------------------------\n",
      "id None\n",
      "{'direct_payment': {'is_direct_payment': 0, 'direct_payment_button_title': 'Direct Payment', 'accounts': {'7799': {'direct_payment_number': '7799', 'direct_payment_mode': 'LinePay', 'direct_payment_name': 'algo0128', 'direct_payment_note': '323', 'direct_payment_require_customer_return': 1, 'image': ''}}}, 'hitpay': {'is_hitpay': 0, 'hitpay_button_title': 'LinePay', 'hitpay_currency': 'AUD', 'hitpay_api_key': 'aa0llllllllllll', 'hitpay_salt': 'rss00000111'}, 'paypal': {'is_paypal': 0, 'paypal_clientId': 'ARN6walisGlxmUMDD75sqHrnw6ouS9aLGjdlCXeLI_NO6z8pFzqu4SDP99k6eLANwfFOq2otbZjxwGnf', 'paypal_currency': 'SGD', 'paypal_secret': 'EHPRrpKNhO-Nhv6jEMOZcIYaAA1UJOEGp_hfaiVMSUP5XMUdYKDwFJSUfIDBGLopLT5nPkiL89DWJ2yN'}, 'stripe': {'is_stripe': 0, 'stripe_currency': '', 'stripe_secret': ''}, 'shopping_note': '', 'confirmation_note': '', 'first_data': {'is_first_data': 1, 'first_data_storeId': '4530042983', 'first_data_sharedSecret': 'Xe33QM7UTs', 'first_data_currency': '702', 'first_data_timezone': 'Asia/Singapore'}}\n"
     ]
    },
    {
     "ename": "ValueError",
     "evalue": "Value: None must be of type dict/list",
     "output_type": "error",
     "traceback": [
      "\u001b[1;31m-----------------------------------------------------------------------\u001b[0m",
      "\u001b[1;31mValueError\u001b[0m                            Traceback (most recent call last)",
      "Input \u001b[1;32mIn [29]\u001b[0m, in \u001b[0;36m<cell line: 1>\u001b[1;34m()\u001b[0m\n\u001b[0;32m     41\u001b[0m \u001b[38;5;28mprint\u001b[39m(new_mata_payment)\n\u001b[0;32m     42\u001b[0m obj\u001b[38;5;241m.\u001b[39mmeta_payment \u001b[38;5;241m=\u001b[39m new_mata_payment\n\u001b[1;32m---> 43\u001b[0m \u001b[43mobj\u001b[49m\u001b[38;5;241;43m.\u001b[39;49m\u001b[43msave\u001b[49m\u001b[43m(\u001b[49m\u001b[43m)\u001b[49m\n",
      "File \u001b[1;32m~\\AppData\\Local\\pypoetry\\Cache\\virtualenvs\\liveshowseller-67dL19H--py3.9\\lib\\site-packages\\django\\db\\models\\base.py:726\u001b[0m, in \u001b[0;36mModel.save\u001b[1;34m(self, force_insert, force_update, using, update_fields)\u001b[0m\n\u001b[0;32m    723\u001b[0m     \u001b[38;5;28;01mif\u001b[39;00m loaded_fields:\n\u001b[0;32m    724\u001b[0m         update_fields \u001b[38;5;241m=\u001b[39m \u001b[38;5;28mfrozenset\u001b[39m(loaded_fields)\n\u001b[1;32m--> 726\u001b[0m \u001b[38;5;28;43mself\u001b[39;49m\u001b[38;5;241;43m.\u001b[39;49m\u001b[43msave_base\u001b[49m\u001b[43m(\u001b[49m\u001b[43musing\u001b[49m\u001b[38;5;241;43m=\u001b[39;49m\u001b[43musing\u001b[49m\u001b[43m,\u001b[49m\u001b[43m \u001b[49m\u001b[43mforce_insert\u001b[49m\u001b[38;5;241;43m=\u001b[39;49m\u001b[43mforce_insert\u001b[49m\u001b[43m,\u001b[49m\n\u001b[0;32m    727\u001b[0m \u001b[43m               \u001b[49m\u001b[43mforce_update\u001b[49m\u001b[38;5;241;43m=\u001b[39;49m\u001b[43mforce_update\u001b[49m\u001b[43m,\u001b[49m\u001b[43m \u001b[49m\u001b[43mupdate_fields\u001b[49m\u001b[38;5;241;43m=\u001b[39;49m\u001b[43mupdate_fields\u001b[49m\u001b[43m)\u001b[49m\n",
      "File \u001b[1;32m~\\AppData\\Local\\pypoetry\\Cache\\virtualenvs\\liveshowseller-67dL19H--py3.9\\lib\\site-packages\\django\\db\\models\\base.py:763\u001b[0m, in \u001b[0;36mModel.save_base\u001b[1;34m(self, raw, force_insert, force_update, using, update_fields)\u001b[0m\n\u001b[0;32m    761\u001b[0m     \u001b[38;5;28;01mif\u001b[39;00m \u001b[38;5;129;01mnot\u001b[39;00m raw:\n\u001b[0;32m    762\u001b[0m         parent_inserted \u001b[38;5;241m=\u001b[39m \u001b[38;5;28mself\u001b[39m\u001b[38;5;241m.\u001b[39m_save_parents(\u001b[38;5;28mcls\u001b[39m, using, update_fields)\n\u001b[1;32m--> 763\u001b[0m     updated \u001b[38;5;241m=\u001b[39m \u001b[38;5;28;43mself\u001b[39;49m\u001b[38;5;241;43m.\u001b[39;49m\u001b[43m_save_table\u001b[49m\u001b[43m(\u001b[49m\n\u001b[0;32m    764\u001b[0m \u001b[43m        \u001b[49m\u001b[43mraw\u001b[49m\u001b[43m,\u001b[49m\u001b[43m \u001b[49m\u001b[38;5;28;43mcls\u001b[39;49m\u001b[43m,\u001b[49m\u001b[43m \u001b[49m\u001b[43mforce_insert\u001b[49m\u001b[43m \u001b[49m\u001b[38;5;129;43;01mor\u001b[39;49;00m\u001b[43m \u001b[49m\u001b[43mparent_inserted\u001b[49m\u001b[43m,\u001b[49m\n\u001b[0;32m    765\u001b[0m \u001b[43m        \u001b[49m\u001b[43mforce_update\u001b[49m\u001b[43m,\u001b[49m\u001b[43m \u001b[49m\u001b[43musing\u001b[49m\u001b[43m,\u001b[49m\u001b[43m \u001b[49m\u001b[43mupdate_fields\u001b[49m\u001b[43m,\u001b[49m\n\u001b[0;32m    766\u001b[0m \u001b[43m    \u001b[49m\u001b[43m)\u001b[49m\n\u001b[0;32m    767\u001b[0m \u001b[38;5;66;03m# Store the database on which the object was saved\u001b[39;00m\n\u001b[0;32m    768\u001b[0m \u001b[38;5;28mself\u001b[39m\u001b[38;5;241m.\u001b[39m_state\u001b[38;5;241m.\u001b[39mdb \u001b[38;5;241m=\u001b[39m using\n",
      "File \u001b[1;32m~\\AppData\\Local\\pypoetry\\Cache\\virtualenvs\\liveshowseller-67dL19H--py3.9\\lib\\site-packages\\django\\db\\models\\base.py:868\u001b[0m, in \u001b[0;36mModel._save_table\u001b[1;34m(self, raw, cls, force_insert, force_update, using, update_fields)\u001b[0m\n\u001b[0;32m    865\u001b[0m     fields \u001b[38;5;241m=\u001b[39m [f \u001b[38;5;28;01mfor\u001b[39;00m f \u001b[38;5;129;01min\u001b[39;00m fields \u001b[38;5;28;01mif\u001b[39;00m f \u001b[38;5;129;01mis\u001b[39;00m \u001b[38;5;129;01mnot\u001b[39;00m meta\u001b[38;5;241m.\u001b[39mauto_field]\n\u001b[0;32m    867\u001b[0m returning_fields \u001b[38;5;241m=\u001b[39m meta\u001b[38;5;241m.\u001b[39mdb_returning_fields\n\u001b[1;32m--> 868\u001b[0m results \u001b[38;5;241m=\u001b[39m \u001b[38;5;28;43mself\u001b[39;49m\u001b[38;5;241;43m.\u001b[39;49m\u001b[43m_do_insert\u001b[49m\u001b[43m(\u001b[49m\u001b[38;5;28;43mcls\u001b[39;49m\u001b[38;5;241;43m.\u001b[39;49m\u001b[43m_base_manager\u001b[49m\u001b[43m,\u001b[49m\u001b[43m \u001b[49m\u001b[43musing\u001b[49m\u001b[43m,\u001b[49m\u001b[43m \u001b[49m\u001b[43mfields\u001b[49m\u001b[43m,\u001b[49m\u001b[43m \u001b[49m\u001b[43mreturning_fields\u001b[49m\u001b[43m,\u001b[49m\u001b[43m \u001b[49m\u001b[43mraw\u001b[49m\u001b[43m)\u001b[49m\n\u001b[0;32m    869\u001b[0m \u001b[38;5;28;01mif\u001b[39;00m results:\n\u001b[0;32m    870\u001b[0m     \u001b[38;5;28;01mfor\u001b[39;00m value, field \u001b[38;5;129;01min\u001b[39;00m \u001b[38;5;28mzip\u001b[39m(results[\u001b[38;5;241m0\u001b[39m], returning_fields):\n",
      "File \u001b[1;32m~\\AppData\\Local\\pypoetry\\Cache\\virtualenvs\\liveshowseller-67dL19H--py3.9\\lib\\site-packages\\django\\db\\models\\base.py:906\u001b[0m, in \u001b[0;36mModel._do_insert\u001b[1;34m(self, manager, using, fields, returning_fields, raw)\u001b[0m\n\u001b[0;32m    901\u001b[0m \u001b[38;5;28;01mdef\u001b[39;00m \u001b[38;5;21m_do_insert\u001b[39m(\u001b[38;5;28mself\u001b[39m, manager, using, fields, returning_fields, raw):\n\u001b[0;32m    902\u001b[0m     \u001b[38;5;124;03m\"\"\"\u001b[39;00m\n\u001b[0;32m    903\u001b[0m \u001b[38;5;124;03m    Do an INSERT. If returning_fields is defined then this method should\u001b[39;00m\n\u001b[0;32m    904\u001b[0m \u001b[38;5;124;03m    return the newly created data for the model.\u001b[39;00m\n\u001b[0;32m    905\u001b[0m \u001b[38;5;124;03m    \"\"\"\u001b[39;00m\n\u001b[1;32m--> 906\u001b[0m     \u001b[38;5;28;01mreturn\u001b[39;00m \u001b[43mmanager\u001b[49m\u001b[38;5;241;43m.\u001b[39;49m\u001b[43m_insert\u001b[49m\u001b[43m(\u001b[49m\n\u001b[0;32m    907\u001b[0m \u001b[43m        \u001b[49m\u001b[43m[\u001b[49m\u001b[38;5;28;43mself\u001b[39;49m\u001b[43m]\u001b[49m\u001b[43m,\u001b[49m\u001b[43m \u001b[49m\u001b[43mfields\u001b[49m\u001b[38;5;241;43m=\u001b[39;49m\u001b[43mfields\u001b[49m\u001b[43m,\u001b[49m\u001b[43m \u001b[49m\u001b[43mreturning_fields\u001b[49m\u001b[38;5;241;43m=\u001b[39;49m\u001b[43mreturning_fields\u001b[49m\u001b[43m,\u001b[49m\n\u001b[0;32m    908\u001b[0m \u001b[43m        \u001b[49m\u001b[43musing\u001b[49m\u001b[38;5;241;43m=\u001b[39;49m\u001b[43musing\u001b[49m\u001b[43m,\u001b[49m\u001b[43m \u001b[49m\u001b[43mraw\u001b[49m\u001b[38;5;241;43m=\u001b[39;49m\u001b[43mraw\u001b[49m\u001b[43m,\u001b[49m\n\u001b[0;32m    909\u001b[0m \u001b[43m    \u001b[49m\u001b[43m)\u001b[49m\n",
      "File \u001b[1;32m~\\AppData\\Local\\pypoetry\\Cache\\virtualenvs\\liveshowseller-67dL19H--py3.9\\lib\\site-packages\\django\\db\\models\\manager.py:85\u001b[0m, in \u001b[0;36mBaseManager._get_queryset_methods.<locals>.create_method.<locals>.manager_method\u001b[1;34m(self, *args, **kwargs)\u001b[0m\n\u001b[0;32m     84\u001b[0m \u001b[38;5;28;01mdef\u001b[39;00m \u001b[38;5;21mmanager_method\u001b[39m(\u001b[38;5;28mself\u001b[39m, \u001b[38;5;241m*\u001b[39margs, \u001b[38;5;241m*\u001b[39m\u001b[38;5;241m*\u001b[39mkwargs):\n\u001b[1;32m---> 85\u001b[0m     \u001b[38;5;28;01mreturn\u001b[39;00m \u001b[38;5;28mgetattr\u001b[39m(\u001b[38;5;28mself\u001b[39m\u001b[38;5;241m.\u001b[39mget_queryset(), name)(\u001b[38;5;241m*\u001b[39margs, \u001b[38;5;241m*\u001b[39m\u001b[38;5;241m*\u001b[39mkwargs)\n",
      "File \u001b[1;32m~\\AppData\\Local\\pypoetry\\Cache\\virtualenvs\\liveshowseller-67dL19H--py3.9\\lib\\site-packages\\django\\db\\models\\query.py:1270\u001b[0m, in \u001b[0;36mQuerySet._insert\u001b[1;34m(self, objs, fields, returning_fields, raw, using, ignore_conflicts)\u001b[0m\n\u001b[0;32m   1268\u001b[0m query \u001b[38;5;241m=\u001b[39m sql\u001b[38;5;241m.\u001b[39mInsertQuery(\u001b[38;5;28mself\u001b[39m\u001b[38;5;241m.\u001b[39mmodel, ignore_conflicts\u001b[38;5;241m=\u001b[39mignore_conflicts)\n\u001b[0;32m   1269\u001b[0m query\u001b[38;5;241m.\u001b[39minsert_values(fields, objs, raw\u001b[38;5;241m=\u001b[39mraw)\n\u001b[1;32m-> 1270\u001b[0m \u001b[38;5;28;01mreturn\u001b[39;00m \u001b[43mquery\u001b[49m\u001b[38;5;241;43m.\u001b[39;49m\u001b[43mget_compiler\u001b[49m\u001b[43m(\u001b[49m\u001b[43musing\u001b[49m\u001b[38;5;241;43m=\u001b[39;49m\u001b[43musing\u001b[49m\u001b[43m)\u001b[49m\u001b[38;5;241;43m.\u001b[39;49m\u001b[43mexecute_sql\u001b[49m\u001b[43m(\u001b[49m\u001b[43mreturning_fields\u001b[49m\u001b[43m)\u001b[49m\n",
      "File \u001b[1;32m~\\AppData\\Local\\pypoetry\\Cache\\virtualenvs\\liveshowseller-67dL19H--py3.9\\lib\\site-packages\\django\\db\\models\\sql\\compiler.py:1415\u001b[0m, in \u001b[0;36mSQLInsertCompiler.execute_sql\u001b[1;34m(self, returning_fields)\u001b[0m\n\u001b[0;32m   1413\u001b[0m \u001b[38;5;28mself\u001b[39m\u001b[38;5;241m.\u001b[39mreturning_fields \u001b[38;5;241m=\u001b[39m returning_fields\n\u001b[0;32m   1414\u001b[0m \u001b[38;5;28;01mwith\u001b[39;00m \u001b[38;5;28mself\u001b[39m\u001b[38;5;241m.\u001b[39mconnection\u001b[38;5;241m.\u001b[39mcursor() \u001b[38;5;28;01mas\u001b[39;00m cursor:\n\u001b[1;32m-> 1415\u001b[0m     \u001b[38;5;28;01mfor\u001b[39;00m sql, params \u001b[38;5;129;01min\u001b[39;00m \u001b[38;5;28;43mself\u001b[39;49m\u001b[38;5;241;43m.\u001b[39;49m\u001b[43mas_sql\u001b[49m\u001b[43m(\u001b[49m\u001b[43m)\u001b[49m:\n\u001b[0;32m   1416\u001b[0m         cursor\u001b[38;5;241m.\u001b[39mexecute(sql, params)\n\u001b[0;32m   1417\u001b[0m     \u001b[38;5;28;01mif\u001b[39;00m \u001b[38;5;129;01mnot\u001b[39;00m \u001b[38;5;28mself\u001b[39m\u001b[38;5;241m.\u001b[39mreturning_fields:\n",
      "File \u001b[1;32m~\\AppData\\Local\\pypoetry\\Cache\\virtualenvs\\liveshowseller-67dL19H--py3.9\\lib\\site-packages\\django\\db\\models\\sql\\compiler.py:1358\u001b[0m, in \u001b[0;36mSQLInsertCompiler.as_sql\u001b[1;34m(self)\u001b[0m\n\u001b[0;32m   1355\u001b[0m result\u001b[38;5;241m.\u001b[39mappend(\u001b[38;5;124m'\u001b[39m\u001b[38;5;124m(\u001b[39m\u001b[38;5;132;01m%s\u001b[39;00m\u001b[38;5;124m)\u001b[39m\u001b[38;5;124m'\u001b[39m \u001b[38;5;241m%\u001b[39m \u001b[38;5;124m'\u001b[39m\u001b[38;5;124m, \u001b[39m\u001b[38;5;124m'\u001b[39m\u001b[38;5;241m.\u001b[39mjoin(qn(f\u001b[38;5;241m.\u001b[39mcolumn) \u001b[38;5;28;01mfor\u001b[39;00m f \u001b[38;5;129;01min\u001b[39;00m fields))\n\u001b[0;32m   1357\u001b[0m \u001b[38;5;28;01mif\u001b[39;00m \u001b[38;5;28mself\u001b[39m\u001b[38;5;241m.\u001b[39mquery\u001b[38;5;241m.\u001b[39mfields:\n\u001b[1;32m-> 1358\u001b[0m     value_rows \u001b[38;5;241m=\u001b[39m [\n\u001b[0;32m   1359\u001b[0m         [\u001b[38;5;28mself\u001b[39m\u001b[38;5;241m.\u001b[39mprepare_value(field, \u001b[38;5;28mself\u001b[39m\u001b[38;5;241m.\u001b[39mpre_save_val(field, obj)) \u001b[38;5;28;01mfor\u001b[39;00m field \u001b[38;5;129;01min\u001b[39;00m fields]\n\u001b[0;32m   1360\u001b[0m         \u001b[38;5;28;01mfor\u001b[39;00m obj \u001b[38;5;129;01min\u001b[39;00m \u001b[38;5;28mself\u001b[39m\u001b[38;5;241m.\u001b[39mquery\u001b[38;5;241m.\u001b[39mobjs\n\u001b[0;32m   1361\u001b[0m     ]\n\u001b[0;32m   1362\u001b[0m \u001b[38;5;28;01melse\u001b[39;00m:\n\u001b[0;32m   1363\u001b[0m     \u001b[38;5;66;03m# An empty object.\u001b[39;00m\n\u001b[0;32m   1364\u001b[0m     value_rows \u001b[38;5;241m=\u001b[39m [[\u001b[38;5;28mself\u001b[39m\u001b[38;5;241m.\u001b[39mconnection\u001b[38;5;241m.\u001b[39mops\u001b[38;5;241m.\u001b[39mpk_default_value()] \u001b[38;5;28;01mfor\u001b[39;00m _ \u001b[38;5;129;01min\u001b[39;00m \u001b[38;5;28mself\u001b[39m\u001b[38;5;241m.\u001b[39mquery\u001b[38;5;241m.\u001b[39mobjs]\n",
      "File \u001b[1;32m~\\AppData\\Local\\pypoetry\\Cache\\virtualenvs\\liveshowseller-67dL19H--py3.9\\lib\\site-packages\\django\\db\\models\\sql\\compiler.py:1359\u001b[0m, in \u001b[0;36m<listcomp>\u001b[1;34m(.0)\u001b[0m\n\u001b[0;32m   1355\u001b[0m result\u001b[38;5;241m.\u001b[39mappend(\u001b[38;5;124m'\u001b[39m\u001b[38;5;124m(\u001b[39m\u001b[38;5;132;01m%s\u001b[39;00m\u001b[38;5;124m)\u001b[39m\u001b[38;5;124m'\u001b[39m \u001b[38;5;241m%\u001b[39m \u001b[38;5;124m'\u001b[39m\u001b[38;5;124m, \u001b[39m\u001b[38;5;124m'\u001b[39m\u001b[38;5;241m.\u001b[39mjoin(qn(f\u001b[38;5;241m.\u001b[39mcolumn) \u001b[38;5;28;01mfor\u001b[39;00m f \u001b[38;5;129;01min\u001b[39;00m fields))\n\u001b[0;32m   1357\u001b[0m \u001b[38;5;28;01mif\u001b[39;00m \u001b[38;5;28mself\u001b[39m\u001b[38;5;241m.\u001b[39mquery\u001b[38;5;241m.\u001b[39mfields:\n\u001b[0;32m   1358\u001b[0m     value_rows \u001b[38;5;241m=\u001b[39m [\n\u001b[1;32m-> 1359\u001b[0m         [\u001b[38;5;28mself\u001b[39m\u001b[38;5;241m.\u001b[39mprepare_value(field, \u001b[38;5;28mself\u001b[39m\u001b[38;5;241m.\u001b[39mpre_save_val(field, obj)) \u001b[38;5;28;01mfor\u001b[39;00m field \u001b[38;5;129;01min\u001b[39;00m fields]\n\u001b[0;32m   1360\u001b[0m         \u001b[38;5;28;01mfor\u001b[39;00m obj \u001b[38;5;129;01min\u001b[39;00m \u001b[38;5;28mself\u001b[39m\u001b[38;5;241m.\u001b[39mquery\u001b[38;5;241m.\u001b[39mobjs\n\u001b[0;32m   1361\u001b[0m     ]\n\u001b[0;32m   1362\u001b[0m \u001b[38;5;28;01melse\u001b[39;00m:\n\u001b[0;32m   1363\u001b[0m     \u001b[38;5;66;03m# An empty object.\u001b[39;00m\n\u001b[0;32m   1364\u001b[0m     value_rows \u001b[38;5;241m=\u001b[39m [[\u001b[38;5;28mself\u001b[39m\u001b[38;5;241m.\u001b[39mconnection\u001b[38;5;241m.\u001b[39mops\u001b[38;5;241m.\u001b[39mpk_default_value()] \u001b[38;5;28;01mfor\u001b[39;00m _ \u001b[38;5;129;01min\u001b[39;00m \u001b[38;5;28mself\u001b[39m\u001b[38;5;241m.\u001b[39mquery\u001b[38;5;241m.\u001b[39mobjs]\n",
      "File \u001b[1;32m~\\AppData\\Local\\pypoetry\\Cache\\virtualenvs\\liveshowseller-67dL19H--py3.9\\lib\\site-packages\\django\\db\\models\\sql\\compiler.py:1359\u001b[0m, in \u001b[0;36m<listcomp>\u001b[1;34m(.0)\u001b[0m\n\u001b[0;32m   1355\u001b[0m result\u001b[38;5;241m.\u001b[39mappend(\u001b[38;5;124m'\u001b[39m\u001b[38;5;124m(\u001b[39m\u001b[38;5;132;01m%s\u001b[39;00m\u001b[38;5;124m)\u001b[39m\u001b[38;5;124m'\u001b[39m \u001b[38;5;241m%\u001b[39m \u001b[38;5;124m'\u001b[39m\u001b[38;5;124m, \u001b[39m\u001b[38;5;124m'\u001b[39m\u001b[38;5;241m.\u001b[39mjoin(qn(f\u001b[38;5;241m.\u001b[39mcolumn) \u001b[38;5;28;01mfor\u001b[39;00m f \u001b[38;5;129;01min\u001b[39;00m fields))\n\u001b[0;32m   1357\u001b[0m \u001b[38;5;28;01mif\u001b[39;00m \u001b[38;5;28mself\u001b[39m\u001b[38;5;241m.\u001b[39mquery\u001b[38;5;241m.\u001b[39mfields:\n\u001b[0;32m   1358\u001b[0m     value_rows \u001b[38;5;241m=\u001b[39m [\n\u001b[1;32m-> 1359\u001b[0m         [\u001b[38;5;28;43mself\u001b[39;49m\u001b[38;5;241;43m.\u001b[39;49m\u001b[43mprepare_value\u001b[49m\u001b[43m(\u001b[49m\u001b[43mfield\u001b[49m\u001b[43m,\u001b[49m\u001b[43m \u001b[49m\u001b[38;5;28;43mself\u001b[39;49m\u001b[38;5;241;43m.\u001b[39;49m\u001b[43mpre_save_val\u001b[49m\u001b[43m(\u001b[49m\u001b[43mfield\u001b[49m\u001b[43m,\u001b[49m\u001b[43m \u001b[49m\u001b[43mobj\u001b[49m\u001b[43m)\u001b[49m\u001b[43m)\u001b[49m \u001b[38;5;28;01mfor\u001b[39;00m field \u001b[38;5;129;01min\u001b[39;00m fields]\n\u001b[0;32m   1360\u001b[0m         \u001b[38;5;28;01mfor\u001b[39;00m obj \u001b[38;5;129;01min\u001b[39;00m \u001b[38;5;28mself\u001b[39m\u001b[38;5;241m.\u001b[39mquery\u001b[38;5;241m.\u001b[39mobjs\n\u001b[0;32m   1361\u001b[0m     ]\n\u001b[0;32m   1362\u001b[0m \u001b[38;5;28;01melse\u001b[39;00m:\n\u001b[0;32m   1363\u001b[0m     \u001b[38;5;66;03m# An empty object.\u001b[39;00m\n\u001b[0;32m   1364\u001b[0m     value_rows \u001b[38;5;241m=\u001b[39m [[\u001b[38;5;28mself\u001b[39m\u001b[38;5;241m.\u001b[39mconnection\u001b[38;5;241m.\u001b[39mops\u001b[38;5;241m.\u001b[39mpk_default_value()] \u001b[38;5;28;01mfor\u001b[39;00m _ \u001b[38;5;129;01min\u001b[39;00m \u001b[38;5;28mself\u001b[39m\u001b[38;5;241m.\u001b[39mquery\u001b[38;5;241m.\u001b[39mobjs]\n",
      "File \u001b[1;32m~\\AppData\\Local\\pypoetry\\Cache\\virtualenvs\\liveshowseller-67dL19H--py3.9\\lib\\site-packages\\django\\db\\models\\sql\\compiler.py:1300\u001b[0m, in \u001b[0;36mSQLInsertCompiler.prepare_value\u001b[1;34m(self, field, value)\u001b[0m\n\u001b[0;32m   1295\u001b[0m         \u001b[38;5;28;01mraise\u001b[39;00m FieldError(\n\u001b[0;32m   1296\u001b[0m             \u001b[38;5;124m'\u001b[39m\u001b[38;5;124mWindow expressions are not allowed in this query (\u001b[39m\u001b[38;5;132;01m%s\u001b[39;00m\u001b[38;5;124m=\u001b[39m\u001b[38;5;132;01m%r\u001b[39;00m\u001b[38;5;124m).\u001b[39m\u001b[38;5;124m'\u001b[39m\n\u001b[0;32m   1297\u001b[0m             \u001b[38;5;241m%\u001b[39m (field\u001b[38;5;241m.\u001b[39mname, value)\n\u001b[0;32m   1298\u001b[0m         )\n\u001b[0;32m   1299\u001b[0m \u001b[38;5;28;01melse\u001b[39;00m:\n\u001b[1;32m-> 1300\u001b[0m     value \u001b[38;5;241m=\u001b[39m \u001b[43mfield\u001b[49m\u001b[38;5;241;43m.\u001b[39;49m\u001b[43mget_db_prep_save\u001b[49m\u001b[43m(\u001b[49m\u001b[43mvalue\u001b[49m\u001b[43m,\u001b[49m\u001b[43m \u001b[49m\u001b[43mconnection\u001b[49m\u001b[38;5;241;43m=\u001b[39;49m\u001b[38;5;28;43mself\u001b[39;49m\u001b[38;5;241;43m.\u001b[39;49m\u001b[43mconnection\u001b[49m\u001b[43m)\u001b[49m\n\u001b[0;32m   1301\u001b[0m \u001b[38;5;28;01mreturn\u001b[39;00m value\n",
      "File \u001b[1;32m~\\AppData\\Local\\pypoetry\\Cache\\virtualenvs\\liveshowseller-67dL19H--py3.9\\lib\\site-packages\\django\\db\\models\\fields\\__init__.py:842\u001b[0m, in \u001b[0;36mField.get_db_prep_save\u001b[1;34m(self, value, connection)\u001b[0m\n\u001b[0;32m    840\u001b[0m \u001b[38;5;28;01mdef\u001b[39;00m \u001b[38;5;21mget_db_prep_save\u001b[39m(\u001b[38;5;28mself\u001b[39m, value, connection):\n\u001b[0;32m    841\u001b[0m     \u001b[38;5;124;03m\"\"\"Return field's value prepared for saving into a database.\"\"\"\u001b[39;00m\n\u001b[1;32m--> 842\u001b[0m     \u001b[38;5;28;01mreturn\u001b[39;00m \u001b[38;5;28;43mself\u001b[39;49m\u001b[38;5;241;43m.\u001b[39;49m\u001b[43mget_db_prep_value\u001b[49m\u001b[43m(\u001b[49m\u001b[43mvalue\u001b[49m\u001b[43m,\u001b[49m\u001b[43m \u001b[49m\u001b[43mconnection\u001b[49m\u001b[38;5;241;43m=\u001b[39;49m\u001b[43mconnection\u001b[49m\u001b[43m,\u001b[49m\u001b[43m \u001b[49m\u001b[43mprepared\u001b[49m\u001b[38;5;241;43m=\u001b[39;49m\u001b[38;5;28;43;01mFalse\u001b[39;49;00m\u001b[43m)\u001b[49m\n",
      "File \u001b[1;32m~\\AppData\\Local\\pypoetry\\Cache\\virtualenvs\\liveshowseller-67dL19H--py3.9\\lib\\site-packages\\django\\db\\models\\fields\\__init__.py:837\u001b[0m, in \u001b[0;36mField.get_db_prep_value\u001b[1;34m(self, value, connection, prepared)\u001b[0m\n\u001b[0;32m    831\u001b[0m \u001b[38;5;124;03m\"\"\"\u001b[39;00m\n\u001b[0;32m    832\u001b[0m \u001b[38;5;124;03mReturn field's value prepared for interacting with the database backend.\u001b[39;00m\n\u001b[0;32m    833\u001b[0m \n\u001b[0;32m    834\u001b[0m \u001b[38;5;124;03mUsed by the default implementations of get_db_prep_save().\u001b[39;00m\n\u001b[0;32m    835\u001b[0m \u001b[38;5;124;03m\"\"\"\u001b[39;00m\n\u001b[0;32m    836\u001b[0m \u001b[38;5;28;01mif\u001b[39;00m \u001b[38;5;129;01mnot\u001b[39;00m prepared:\n\u001b[1;32m--> 837\u001b[0m     value \u001b[38;5;241m=\u001b[39m \u001b[38;5;28;43mself\u001b[39;49m\u001b[38;5;241;43m.\u001b[39;49m\u001b[43mget_prep_value\u001b[49m\u001b[43m(\u001b[49m\u001b[43mvalue\u001b[49m\u001b[43m)\u001b[49m\n\u001b[0;32m    838\u001b[0m \u001b[38;5;28;01mreturn\u001b[39;00m value\n",
      "File \u001b[1;32m~\\AppData\\Local\\pypoetry\\Cache\\virtualenvs\\liveshowseller-67dL19H--py3.9\\lib\\site-packages\\djongo\\models\\fields.py:87\u001b[0m, in \u001b[0;36mJSONField.get_prep_value\u001b[1;34m(self, value)\u001b[0m\n\u001b[0;32m     85\u001b[0m \u001b[38;5;28;01mdef\u001b[39;00m \u001b[38;5;21mget_prep_value\u001b[39m(\u001b[38;5;28mself\u001b[39m, value):\n\u001b[0;32m     86\u001b[0m     \u001b[38;5;28;01mif\u001b[39;00m \u001b[38;5;129;01mnot\u001b[39;00m \u001b[38;5;28misinstance\u001b[39m(value, (\u001b[38;5;28mdict\u001b[39m, \u001b[38;5;28mlist\u001b[39m)):\n\u001b[1;32m---> 87\u001b[0m         \u001b[38;5;28;01mraise\u001b[39;00m \u001b[38;5;167;01mValueError\u001b[39;00m(\n\u001b[0;32m     88\u001b[0m             \u001b[38;5;124mf\u001b[39m\u001b[38;5;124m'\u001b[39m\u001b[38;5;124mValue: \u001b[39m\u001b[38;5;132;01m{\u001b[39;00mvalue\u001b[38;5;132;01m}\u001b[39;00m\u001b[38;5;124m must be of type dict/list\u001b[39m\u001b[38;5;124m'\u001b[39m\n\u001b[0;32m     89\u001b[0m         )\n\u001b[0;32m     90\u001b[0m     \u001b[38;5;28;01mreturn\u001b[39;00m value\n",
      "\u001b[1;31mValueError\u001b[0m: Value: None must be of type dict/list"
     ]
    }
   ],
   "source": [
    "for obj in Campaign.objects.all():\n",
    "    print(\"id\", obj.id)\n",
    "    new_mata_payment = to_dict(obj.meta_payment.get(\"sg\", {}))\n",
    "#     print(new_mata_payment)\n",
    "    direct_payment = to_dict(new_mata_payment.get(\"direct_payment\", {}))\n",
    "    first_data = to_dict(new_mata_payment.get(\"firstdata\", {}))\n",
    "    pay_mongo = to_dict(new_mata_payment.get(\"paymongo\", {}))\n",
    "#     print(direct_payment)\n",
    "#     print(first_data)\n",
    "#     print(pay_mongo)\n",
    "    print(\"-------------------------------\")\n",
    "    if direct_payment:\n",
    "        string_dp = json.dumps(direct_payment)\n",
    "        regex = re.compile(r\"distinct_payment\")\n",
    "        string_dp = regex.sub(\"direct_payment\", string_dp)\n",
    "        new_dict = json.loads(string_dp)\n",
    "        \n",
    "        new_mata_payment[\"direct_payment\"] = new_dict\n",
    "#         print(new_dict)\n",
    "        \n",
    "    if first_data:\n",
    "        string_dp = json.dumps(first_data)\n",
    "        regex = re.compile(r\"firstdata\")\n",
    "        string_dp = regex.sub(\"first_data\", string_dp)\n",
    "        regex = re.compile(r\"ipg\")\n",
    "        string_dp = regex.sub(\"first_data\", string_dp)\n",
    "        new_dict = json.loads(string_dp) \n",
    "        \n",
    "        new_mata_payment[\"first_data\"] = new_dict\n",
    "        del new_mata_payment[\"firstdata\"]\n",
    "#         print(new_dict)\n",
    "    if pay_mongo:\n",
    "        string_dp = json.dumps(pay_mongo)\n",
    "        regex = re.compile(r\"paymongo\")\n",
    "        string_dp = regex.sub(\"pay_mongo\", string_dp)\n",
    "        new_dict = json.loads(string_dp)\n",
    "        new_mata_payment[\"pay_mongo\"] = new_dict\n",
    "        del new_mata_payment[\"paymongo\"]\n",
    "#         print(new_dict)\n",
    "    if new_mata_payment:\n",
    "        \n",
    "        print(new_mata_payment)\n",
    "        obj.meta_payment = new_mata_payment\n",
    "        obj.save()"
   ]
  },
  {
   "cell_type": "code",
   "execution_count": 20,
   "metadata": {},
   "outputs": [],
   "source": [
    "for obj in Campaign.objects.filter(id=396):\n",
    "    del obj.meta_payment[\"firstdata\"]\n",
    "    del obj.meta_payment[\"paymongo\"]\n",
    "    obj.save()"
   ]
  },
  {
   "cell_type": "code",
   "execution_count": null,
   "metadata": {},
   "outputs": [],
   "source": []
  }
 ],
 "metadata": {
  "interpreter": {
   "hash": "d9a967f4745e9730c2d256dde0f4f851fe9c3bfc3fc5b07e5fa5fb1ceeb32b5e"
  },
  "kernelspec": {
   "display_name": "Python 3 (ipykernel)",
   "language": "python",
   "name": "python3"
  },
  "language_info": {
   "codemirror_mode": {
    "name": "ipython",
    "version": 3
   },
   "file_extension": ".py",
   "mimetype": "text/x-python",
   "name": "python",
   "nbconvert_exporter": "python",
   "pygments_lexer": "ipython3",
   "version": "3.9.0"
  },
  "toc": {
   "base_numbering": 1,
   "nav_menu": {},
   "number_sections": true,
   "sideBar": true,
   "skip_h1_title": false,
   "title_cell": "Table of Contents",
   "title_sidebar": "Contents",
   "toc_cell": false,
   "toc_position": {},
   "toc_section_display": true,
   "toc_window_display": false
  },
  "varInspector": {
   "cols": {
    "lenName": 16,
    "lenType": 16,
    "lenVar": 40
   },
   "kernels_config": {
    "python": {
     "delete_cmd_postfix": "",
     "delete_cmd_prefix": "del ",
     "library": "var_list.py",
     "varRefreshCmd": "print(var_dic_list())"
    },
    "r": {
     "delete_cmd_postfix": ") ",
     "delete_cmd_prefix": "rm(",
     "library": "var_list.r",
     "varRefreshCmd": "cat(var_dic_list()) "
    }
   },
   "types_to_exclude": [
    "module",
    "function",
    "builtin_function_or_method",
    "instance",
    "_Feature"
   ],
   "window_display": false
  }
 },
 "nbformat": 4,
 "nbformat_minor": 2
}
