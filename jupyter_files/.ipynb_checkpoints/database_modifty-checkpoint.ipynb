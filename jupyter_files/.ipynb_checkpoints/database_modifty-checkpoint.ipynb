{
 "cells": [
  {
   "cell_type": "code",
   "execution_count": 5,
   "metadata": {
    "ExecuteTime": {
     "end_time": "2022-03-27T13:42:48.842351Z",
     "start_time": "2022-03-27T13:42:42.939095Z"
    }
   },
   "outputs": [
    {
     "data": {
      "text/plain": [
       "<QuerySet [<Campaign: fff>]>"
      ]
     },
     "execution_count": 5,
     "metadata": {},
     "output_type": "execute_result"
    }
   ],
   "source": [
    "import django_initializer\n",
    "from api.models.user.user import User\n",
    "from django.contrib.auth.models import User as AuthUser\n",
    "from json import loads, dumps\n",
    "from collections import OrderedDict\n",
    "import json\n",
    "import re\n",
    "from api.models.campaign.campaign import Campaign\n",
    "from api.models.user.user_subscription import UserSubscription\n",
    "def to_dict(input_ordered_dict):\n",
    "    return loads(dumps(input_ordered_dict))"
   ]
  },
  {
   "cell_type": "code",
   "execution_count": 34,
   "metadata": {},
   "outputs": [
    {
     "name": "stdout",
     "output_type": "stream",
     "text": [
      "-------------------------------\n",
      "{'is_direct_payment': 1, 'direct_payment_button_title': 'Direct Payment', 'accounts': {'11': {'direct_payment_number': '11', 'direct_payment_mode': '22', 'direct_payment_name': '123', 'direct_payment_note': '22', 'direct_payment_require_customer_return': 0, 'image': '/1/payment/direct_payment/prize 2022-02-15 150845.png'}}}\n",
      "{'is_first_data': 1, 'first_data_storeId': '4530042983', 'first_data_sharedSecret': 'Xe33QM7UTs', 'first_data_currency': '702', 'first_data_timezone': 'Asia/Singapore'}\n",
      "{'is_pay_mongo': 1, 'pay_mongo_secret': 'sk_test_kXkD4NBMYZixy8dJ8GV6br4u'}\n",
      "-------------------------------\n",
      "{'is_direct_payment': 1, 'direct_payment_button_title': 'Direct Payment', 'accounts': {'02200343826': {'direct_payment_number': '02200343826', 'direct_payment_mode': 'HONG LEONG BANK', 'direct_payment_name': 'ARIMEE (M) SDN BHD', 'direct_payment_note': 'UPLOAD RECEIPT', 'direct_payment_require_customer_return': 1, 'image': '/2/payment/direct_payment/PAYMENT SDN BHD.jpg'}}}\n",
      "-------------------------------\n",
      "-------------------------------\n",
      "-------------------------------\n",
      "-------------------------------\n",
      "-------------------------------\n",
      "-------------------------------\n",
      "{'is_direct_payment': 1, 'direct_payment_button_title': 'Direct Payment', 'accounts': {'008068003508': {'direct_payment_number': '008068003508', 'direct_payment_mode': 'Banco De Oro Inc.', 'direct_payment_name': 'Freris Trading and General Merchandise', 'direct_payment_note': '', 'direct_payment_require_customer_return': 0, 'image': ''}, '09171123125': {'direct_payment_number': '09171123125', 'direct_payment_mode': 'Gcash', 'direct_payment_name': 'Jjoycelyn Flojo', 'direct_payment_note': '', 'direct_payment_require_customer_return': 0, 'image': '/9/payment/direct_payment/GCash 3125 QR.jpg'}}}\n",
      "-------------------------------\n",
      "-------------------------------\n",
      "-------------------------------\n",
      "{'is_direct_payment': 1, 'direct_payment_button_title': 'Direct Payment', 'accounts': {'7799': {'direct_payment_number': '7799', 'direct_payment_mode': 'LinePay', 'direct_payment_name': 'nick', 'direct_payment_note': 'no', 'direct_payment_require_customer_return': 1, 'image': '/14/payment/direct_payment/QR code.png'}, '12345': {'direct_payment_number': '12345', 'direct_payment_mode': 'df bank', 'direct_payment_name': 'Algotech Pte Ltd', 'direct_payment_note': '', 'direct_payment_require_customer_return': 0, 'image': '/14/payment/direct_payment/QR code.png'}}}\n",
      "-------------------------------\n",
      "-------------------------------\n",
      "-------------------------------\n",
      "-------------------------------\n",
      "{'is_direct_payment': 1, 'direct_payment_button_title': 'Direct Payment', 'accounts': {'7799': {'direct_payment_number': '7799', 'direct_payment_mode': 'LinePay', 'direct_payment_name': 'nick', 'direct_payment_note': 'no', 'direct_payment_require_customer_return': 1, 'image': '/14/payment/direct_payment/QR code.png'}, '12345': {'direct_payment_number': '12345', 'direct_payment_mode': 'df bank', 'direct_payment_name': 'Algotech Pte Ltd', 'direct_payment_note': '', 'direct_payment_require_customer_return': 0, 'image': '/14/payment/direct_payment/QR code.png'}}}\n",
      "-------------------------------\n",
      "-------------------------------\n",
      "-------------------------------\n",
      "-------------------------------\n",
      "-------------------------------\n",
      "-------------------------------\n",
      "-------------------------------\n",
      "-------------------------------\n",
      "-------------------------------\n",
      "-------------------------------\n",
      "-------------------------------\n",
      "-------------------------------\n",
      "-------------------------------\n",
      "-------------------------------\n",
      "-------------------------------\n",
      "-------------------------------\n",
      "-------------------------------\n",
      "-------------------------------\n",
      "-------------------------------\n",
      "-------------------------------\n",
      "-------------------------------\n",
      "-------------------------------\n",
      "-------------------------------\n",
      "-------------------------------\n",
      "-------------------------------\n",
      "-------------------------------\n",
      "-------------------------------\n",
      "-------------------------------\n",
      "-------------------------------\n",
      "-------------------------------\n",
      "-------------------------------\n",
      "-------------------------------\n",
      "-------------------------------\n",
      "-------------------------------\n",
      "-------------------------------\n",
      "-------------------------------\n",
      "-------------------------------\n",
      "-------------------------------\n",
      "-------------------------------\n",
      "-------------------------------\n",
      "-------------------------------\n",
      "-------------------------------\n",
      "-------------------------------\n",
      "-------------------------------\n",
      "-------------------------------\n",
      "-------------------------------\n",
      "-------------------------------\n",
      "-------------------------------\n",
      "-------------------------------\n",
      "-------------------------------\n",
      "-------------------------------\n",
      "-------------------------------\n",
      "-------------------------------\n",
      "-------------------------------\n",
      "-------------------------------\n",
      "-------------------------------\n",
      "-------------------------------\n",
      "-------------------------------\n",
      "-------------------------------\n",
      "-------------------------------\n",
      "-------------------------------\n",
      "-------------------------------\n",
      "-------------------------------\n",
      "-------------------------------\n",
      "-------------------------------\n",
      "-------------------------------\n",
      "-------------------------------\n",
      "-------------------------------\n",
      "-------------------------------\n",
      "-------------------------------\n",
      "-------------------------------\n"
     ]
    }
   ],
   "source": [
    "for obj in UserSubscription.objects.all():\n",
    "    direct_payment = to_dict(obj.meta_payment.get(\"direct_payment\", {}))\n",
    "    first_data = to_dict(obj.meta_payment.get(\"firstdata\", {}))\n",
    "    pay_mongo = to_dict(obj.meta_payment.get(\"paymongo\", {}))\n",
    "    print(\"-------------------------------\")\n",
    "    if direct_payment:\n",
    "        string_dp = json.dumps(direct_payment)\n",
    "        regex = re.compile(r\"distinct_payment\")\n",
    "        string_dp = regex.sub(\"direct_payment\", string_dp)\n",
    "        new_dict = json.loads(string_dp)\n",
    "        \n",
    "        obj.meta_payment[\"direct_payment\"] = new_dict\n",
    "        print(new_dict)\n",
    "        \n",
    "    if first_data:\n",
    "        string_dp = json.dumps(first_data)\n",
    "        regex = re.compile(r\"firstdata\")\n",
    "        string_dp = regex.sub(\"first_data\", string_dp)\n",
    "        regex = re.compile(r\"ipg\")\n",
    "        string_dp = regex.sub(\"first_data\", string_dp)\n",
    "        new_dict = json.loads(string_dp) \n",
    "        \n",
    "        obj.meta_payment[\"first_data\"] = new_dict\n",
    "        del obj.meta_payment[\"firstdata\"]\n",
    "        print(new_dict)\n",
    "    if pay_mongo:\n",
    "        string_dp = json.dumps(pay_mongo)\n",
    "        regex = re.compile(r\"paymongo\")\n",
    "        string_dp = regex.sub(\"pay_mongo\", string_dp)\n",
    "        new_dict = json.loads(string_dp)\n",
    "        obj.meta_payment[\"pay_mongo\"] = new_dict\n",
    "        del obj.meta_payment[\"paymongo\"]\n",
    "        print(new_dict)\n",
    "    obj.save()\n",
    "    \n",
    "            \n",
    "    "
   ]
  },
  {
   "cell_type": "markdown",
   "metadata": {},
   "source": [
    "# edit campaign payment"
   ]
  },
  {
   "cell_type": "code",
   "execution_count": 19,
   "metadata": {},
   "outputs": [
    {
     "name": "stdout",
     "output_type": "stream",
     "text": [
      "-------------------------------\n",
      "{'direct_payment': {'is_direct_payment': 1, 'direct_payment_button_title': 'Direct Payment', 'accounts': {'123456': {'direct_payment_number': '123456', 'direct_payment_mode': 'LinePay', 'direct_payment_name': 'cece', 'direct_payment_note': '', 'direct_payment_require_customer_return': 0, 'image': ''}}}, 'hitpay': {'is_hitpay': 0, 'hitpay_button_title': 'sfsdf', 'hitpay_currency': 'SGD', 'hitpay_api_key': '1231531', 'hitpay_salt': '465465546'}, 'paypal': {'is_paypal': 0, 'paypal_clientId': '4554546', 'paypal_currency': 'SGD', 'paypal_secret': '4555446'}, 'firstdata': {'is_ipg': 0, 'ipg_storeId': '4544656', 'ipg_sharedSecret': '56465', 'ipg_currency': '702', 'ipg_timezone': ''}, 'stripe': {'is_stripe': 0, 'stripe_currency': 'SGD', 'stripe_secret': '468546'}, 'paymongo': {'is_paymongo': 1, 'paymongo_secret': 'zzzz@#123~App)'}, 'shopping_note': 'Thank you', 'confirmation_note': 'test', 'first_data': {'is_first_data': 0, 'first_data_storeId': '4544656', 'first_data_sharedSecret': '56465', 'first_data_currency': '702', 'first_data_timezone': ''}, 'pay_mongo': {'is_pay_mongo': 1, 'pay_mongo_secret': 'zzzz@#123~App)'}}\n"
     ]
    }
   ],
   "source": [
    "for obj in Campaign.objects.filter(id=396):\n",
    "    new_mata_payment = to_dict(obj.meta_payment.get(\"sg\", {}))\n",
    "#     print(new_mata_payment)\n",
    "    direct_payment = to_dict(new_mata_payment.get(\"direct_payment\", {}))\n",
    "    first_data = to_dict(new_mata_payment.get(\"firstdata\", {}))\n",
    "    pay_mongo = to_dict(new_mata_payment.get(\"paymongo\", {}))\n",
    "#     print(direct_payment)\n",
    "#     print(first_data)\n",
    "#     print(pay_mongo)\n",
    "    print(\"-------------------------------\")\n",
    "    if direct_payment:\n",
    "        string_dp = json.dumps(direct_payment)\n",
    "        regex = re.compile(r\"distinct_payment\")\n",
    "        string_dp = regex.sub(\"direct_payment\", string_dp)\n",
    "        new_dict = json.loads(string_dp)\n",
    "        \n",
    "        new_mata_payment[\"direct_payment\"] = new_dict\n",
    "#         print(new_dict)\n",
    "        \n",
    "    if first_data:\n",
    "        string_dp = json.dumps(first_data)\n",
    "        regex = re.compile(r\"firstdata\")\n",
    "        string_dp = regex.sub(\"first_data\", string_dp)\n",
    "        regex = re.compile(r\"ipg\")\n",
    "        string_dp = regex.sub(\"first_data\", string_dp)\n",
    "        new_dict = json.loads(string_dp) \n",
    "        \n",
    "        new_mata_payment[\"first_data\"] = new_dict\n",
    "#         print(new_dict)\n",
    "    if pay_mongo:\n",
    "        string_dp = json.dumps(pay_mongo)\n",
    "        regex = re.compile(r\"paymongo\")\n",
    "        string_dp = regex.sub(\"pay_mongo\", string_dp)\n",
    "        new_dict = json.loads(string_dp)\n",
    "        new_mata_payment[\"pay_mongo\"] = new_dict\n",
    "#         print(new_dict)\n",
    "    del obj.meta_payment[\"firstdata\"]\n",
    "    del obj.meta_payment[\"paymongo\"]\n",
    "    print(new_mata_payment)\n",
    "    obj.meta_payment = new_mata_payment\n",
    "    obj.save()"
   ]
  },
  {
   "cell_type": "code",
   "execution_count": null,
   "metadata": {},
   "outputs": [],
   "source": []
  }
 ],
 "metadata": {
  "interpreter": {
   "hash": "d9a967f4745e9730c2d256dde0f4f851fe9c3bfc3fc5b07e5fa5fb1ceeb32b5e"
  },
  "kernelspec": {
   "display_name": "Python 3 (ipykernel)",
   "language": "python",
   "name": "python3"
  },
  "language_info": {
   "codemirror_mode": {
    "name": "ipython",
    "version": 3
   },
   "file_extension": ".py",
   "mimetype": "text/x-python",
   "name": "python",
   "nbconvert_exporter": "python",
   "pygments_lexer": "ipython3",
   "version": "3.9.0"
  },
  "toc": {
   "base_numbering": 1,
   "nav_menu": {},
   "number_sections": true,
   "sideBar": true,
   "skip_h1_title": false,
   "title_cell": "Table of Contents",
   "title_sidebar": "Contents",
   "toc_cell": false,
   "toc_position": {},
   "toc_section_display": true,
   "toc_window_display": false
  },
  "varInspector": {
   "cols": {
    "lenName": 16,
    "lenType": 16,
    "lenVar": 40
   },
   "kernels_config": {
    "python": {
     "delete_cmd_postfix": "",
     "delete_cmd_prefix": "del ",
     "library": "var_list.py",
     "varRefreshCmd": "print(var_dic_list())"
    },
    "r": {
     "delete_cmd_postfix": ") ",
     "delete_cmd_prefix": "rm(",
     "library": "var_list.r",
     "varRefreshCmd": "cat(var_dic_list()) "
    }
   },
   "types_to_exclude": [
    "module",
    "function",
    "builtin_function_or_method",
    "instance",
    "_Feature"
   ],
   "window_display": false
  }
 },
 "nbformat": 4,
 "nbformat_minor": 2
}
