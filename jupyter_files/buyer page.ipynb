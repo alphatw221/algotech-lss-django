{
 "cells": [
  {
   "cell_type": "code",
   "execution_count": 34,
   "id": "7b8c5e57",
   "metadata": {},
   "outputs": [],
   "source": [
    "import django_initializer\n",
    "from backend.pymongo.mongodb import db\n",
    "from datetime import datetime\n",
    "import arrow\n",
    "from api import models"
   ]
  },
  {
   "cell_type": "code",
   "execution_count": 56,
   "id": "3bfda427",
   "metadata": {},
   "outputs": [],
   "source": [
    "__collection = db.api_order\n",
    "def get_anonymous_buyers_data(user_subscription_id):\n",
    "    query = [\n",
    "        {\n",
    "            \"$match\":{\n",
    "                \"user_subscription_id\": user_subscription_id,\n",
    "                \"buyer_id\":{'$eq':None}\n",
    "            },\n",
    "        },\n",
    "        {\n",
    "            \"$group\": {\n",
    "                '_id':None,\n",
    "                'order_id_list': {'$addToSet': '$id'},\n",
    "            }\n",
    "        }\n",
    "    ]\n",
    "    cursor = __collection.aggregate(query)\n",
    "    return list(cursor)[0].get('order_id_list', [])\n",
    "\n",
    "def get_registered_buyers_data(user_subscription_id):\n",
    "    query = [\n",
    "        {\n",
    "            \"$match\":{\n",
    "                \"user_subscription_id\": user_subscription_id,\n",
    "                \"buyer_id\":{'$ne':None}\n",
    "            }\n",
    "        },\n",
    "        {\n",
    "            '$group': {\n",
    "                '_id': '$buyer_id',\n",
    "                'order_id': {'$first':'$id'}\n",
    "                \n",
    "            }\n",
    "        },\n",
    "        {\n",
    "            \"$project\": {\n",
    "                '_id':0,\n",
    "                'order_id': '$order_id'\n",
    "            }\n",
    "        },\n",
    "        {\n",
    "            \"$group\": {\n",
    "                '_id':None,\n",
    "                'order_id_list': {'$addToSet': '$order_id'},\n",
    "            }\n",
    "        }\n",
    "    ]\n",
    "    cursor = __collection.aggregate(query)\n",
    "    return list(cursor)[0].get('order_id_list', [])\n"
   ]
  },
  {
   "cell_type": "code",
   "execution_count": 57,
   "id": "5614cf39",
   "metadata": {},
   "outputs": [
    {
     "name": "stdout",
     "output_type": "stream",
     "text": [
      "[33429, 32829, 33409, 33189, 33197]\n",
      "[32855]\n",
      "[33429, 32829, 33409, 33189, 33197, 32855]\n",
      "6\n",
      "6\n"
     ]
    }
   ],
   "source": [
    "anonymous_buyers_data = get_anonymous_buyers_data(218)\n",
    "print(anonymous_buyers_data)\n",
    "registered_buyers_data = get_registered_buyers_data(218)\n",
    "print(registered_buyers_data)\n",
    "buyers_id_data = anonymous_buyers_data + registered_buyers_data\n",
    "print(buyers_id_data)\n",
    "print(len(buyers_id_data))\n",
    "queryset = models.order.order.Order.objects.filter(id__in=buyers_id_data)\n",
    "print(len(queryset))"
   ]
  },
  {
   "cell_type": "code",
   "execution_count": 58,
   "id": "bf327bb6",
   "metadata": {},
   "outputs": [
    {
     "ename": "TypeError",
     "evalue": "'int' object is not subscriptable",
     "output_type": "error",
     "traceback": [
      "\u001b[1;31m---------------------------------------------------------------------------\u001b[0m",
      "\u001b[1;31mTypeError\u001b[0m                                 Traceback (most recent call last)",
      "Input \u001b[1;32mIn [58]\u001b[0m, in \u001b[0;36m<cell line: 1>\u001b[1;34m()\u001b[0m\n\u001b[1;32m----> 1\u001b[0m queryset \u001b[38;5;241m=\u001b[39m models\u001b[38;5;241m.\u001b[39morder\u001b[38;5;241m.\u001b[39morder\u001b[38;5;241m.\u001b[39mOrder\u001b[38;5;241m.\u001b[39mobjects\u001b[38;5;241m.\u001b[39mfilter(id__in\u001b[38;5;241m=\u001b[39m\u001b[43mregistered_buyers_data\u001b[49m\u001b[43m[\u001b[49m\u001b[38;5;241;43m0\u001b[39;49m\u001b[43m]\u001b[49m\u001b[43m[\u001b[49m\u001b[38;5;124;43m'\u001b[39;49m\u001b[38;5;124;43mcart_id_list\u001b[39;49m\u001b[38;5;124;43m'\u001b[39;49m\u001b[43m]\u001b[49m)\n\u001b[0;32m      2\u001b[0m \u001b[38;5;28mprint\u001b[39m(queryset)\n",
      "\u001b[1;31mTypeError\u001b[0m: 'int' object is not subscriptable"
     ]
    }
   ],
   "source": [
    "queryset = models.order.order.Order.objects.filter(id__in=registered_buyers_data[0]['cart_id_list'])\n",
    "print(queryset)"
   ]
  },
  {
   "cell_type": "code",
   "execution_count": null,
   "id": "cc5bc93e",
   "metadata": {},
   "outputs": [],
   "source": []
  }
 ],
 "metadata": {
  "kernelspec": {
   "display_name": "Django Shell-Plus",
   "language": "python",
   "name": "django_extensions"
  },
  "language_info": {
   "codemirror_mode": {
    "name": "ipython",
    "version": 3
   },
   "file_extension": ".py",
   "mimetype": "text/x-python",
   "name": "python",
   "nbconvert_exporter": "python",
   "pygments_lexer": "ipython3",
   "version": "3.9.0"
  }
 },
 "nbformat": 4,
 "nbformat_minor": 5
}
