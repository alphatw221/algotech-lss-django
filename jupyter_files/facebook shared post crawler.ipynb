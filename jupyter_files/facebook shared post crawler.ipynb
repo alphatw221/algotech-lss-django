{
 "cells": [
  {
   "cell_type": "code",
   "execution_count": 1,
   "id": "5dc1b9c0",
   "metadata": {},
   "outputs": [],
   "source": [
    "import django_initializer\n",
    "from api.models.user.user import User\n",
    "from django.contrib.auth.models import User as AuthUser\n",
    "from json import loads, dumps\n",
    "from collections import OrderedDict\n",
    "import json\n",
    "import lib\n",
    "import re\n",
    "import service\n",
    "from api.models.campaign.campaign import Campaign\n",
    "from api.models.user.user_subscription import UserSubscription\n",
    "from service.web_crawler.facebook_shared_list_crawler import FacebookSharedListCrawler\n",
    "def to_dict(input_ordered_dict):\n",
    "    return loads(dumps(input_ordered_dict))"
   ]
  },
  {
   "cell_type": "code",
   "execution_count": 2,
   "id": "a46d5587",
   "metadata": {},
   "outputs": [
    {
     "name": "stdout",
     "output_type": "stream",
     "text": [
      "remote\n",
      "login with cookies\n",
      "validate_user\n",
      "check if Go to App button shows up\n",
      "9\n",
      "1\n",
      "Traceback (most recent call last):\n",
      "  File \"/home/liveshowseller/service/web_crawler/facebook_shared_list_crawler.py\", line 82, in validate_user\n",
      "    self.driver.find_element(By.CSS_SELECTOR, \"input[value='regular_login']\")\n",
      "  File \"/root/.cache/pypoetry/virtualenvs/liveshowseller-4MbNXGbY-py3.9/lib/python3.9/site-packages/selenium/webdriver/remote/webdriver.py\", line 856, in find_element\n",
      "    return self.execute(Command.FIND_ELEMENT, {\n",
      "  File \"/root/.cache/pypoetry/virtualenvs/liveshowseller-4MbNXGbY-py3.9/lib/python3.9/site-packages/selenium/webdriver/remote/webdriver.py\", line 429, in execute\n",
      "    self.error_handler.check_response(response)\n",
      "  File \"/root/.cache/pypoetry/virtualenvs/liveshowseller-4MbNXGbY-py3.9/lib/python3.9/site-packages/selenium/webdriver/remote/errorhandler.py\", line 243, in check_response\n",
      "    raise exception_class(message, screen, stacktrace)\n",
      "selenium.common.exceptions.NoSuchElementException: Message: no such element: Unable to locate element: {\"method\":\"css selector\",\"selector\":\"input[value='regular_login']\"}\n",
      "  (Session info: chrome=106.0.5249.91)\n",
      "Stacktrace:\n",
      "#0 0x55d13a4f22c3 <unknown>\n",
      "#1 0x55d13a2fb83a <unknown>\n",
      "#2 0x55d13a334985 <unknown>\n",
      "#3 0x55d13a334b61 <unknown>\n",
      "#4 0x55d13a36cd14 <unknown>\n",
      "#5 0x55d13a352f6d <unknown>\n",
      "#6 0x55d13a36aa50 <unknown>\n",
      "#7 0x55d13a352d63 <unknown>\n",
      "#8 0x55d13a3277e3 <unknown>\n",
      "#9 0x55d13a328a21 <unknown>\n",
      "#10 0x55d13a54018e <unknown>\n",
      "#11 0x55d13a543622 <unknown>\n",
      "#12 0x55d13a526aae <unknown>\n",
      "#13 0x55d13a5442a3 <unknown>\n",
      "#14 0x55d13a51aecf <unknown>\n",
      "#15 0x55d13a564588 <unknown>\n",
      "#16 0x55d13a564706 <unknown>\n",
      "#17 0x55d13a57e8b2 <unknown>\n",
      "#18 0x7f8cf2667609 <unknown>\n",
      "\n",
      "\n",
      "{'qid': '-5335714903831006910', 'mf_story_key': '809274420379906', 'top_level_post_id': '809274420379906', 'tl_objid': '809274420379906', 'content_owner_id_new': '100063671276299', 'throwback_story_fbid': '809274420379906', 'page_id': '109130787659110', 'story_location': 4, 'story_attachment_style': 'video_inline', 'ott': 'ottAX_0uHhBirslVfel', 'video_id': '809274420379906', 'sty': 38, 'ent_attachement_type': 'VideoAttachment', 'app_id': '6628568379', 'page_insights': {'100063671276299': {'page_id': '100063671276299', 'page_id_type': 'page', 'actor_id': '100063671276299', 'dm': {'isShare': 0, 'originalPostOwnerID': 0}, 'psn': 'EntVideoCreationStory', 'post_context': {'object_fbtype': 1, 'publish_time': 1666172309, 'story_name': 'EntVideoCreationStory', 'story_fbid': ['809274420379906']}, 'role': 1, 'sl': 4, 'targets': [{'actor_id': '100063671276299', 'page_id': '100063671276299', 'post_id': '809274420379906', 'role': 1, 'share_id': 0}]}}, 'profile_id': '100063671276299', 'profile_relationship_type': 6, 'actrs': '100063671276299', 'tds_flgs': 3, 'thid': '100063671276299:306061129499414:54:0:1667285999:892188500747857294::', 'ftmd_400706': '111114l', 'tn': '-R'}\n",
      "https://m.facebook.com/browse/shares?id=809274420379906\n",
      "Element is not present\n",
      "Spent: 0:00:11.501988\n",
      "{'Great Code'}\n"
     ]
    }
   ],
   "source": [
    "campaign_lucky_draw_id = \"1505\"\n",
    "lucky_draw = lib.util.verify.Verify.get_lucky_draw(campaign_lucky_draw_id)\n",
    "username = lucky_draw.campaign.facebook_page.username\n",
    "post_id = lucky_draw.campaign.facebook_campaign.get(\"post_id\", \"\")\n",
    "fb_crawler = FacebookSharedListCrawler(username, post_id, open_browser=True)\n",
    "shared_user_name_set = fb_crawler.start()\n",
    "print(shared_user_name_set)"
   ]
  },
  {
   "cell_type": "code",
   "execution_count": 4,
   "id": "38e57fc3",
   "metadata": {},
   "outputs": [],
   "source": [
    "page_username = \"kuai.mai.2021\"\n",
    "target_post_id = \"517999680166258\"\n",
    "language = \"zh_hant\"\n",
    "langauag_map = {\n",
    "    \"zh_hant\": \"中文(台灣)\",\n",
    "    \"en\": \"English (US)\",\n",
    "    \"zh_hans\": \"中文(简体)\",\n",
    "    \"vi\": \"Tiếng Việt\"\n",
    "}\n",
    "fb_crawler = FacebookSharedListCrawler(page_username, target_post_id, lang=language)"
   ]
  },
  {
   "cell_type": "code",
   "execution_count": null,
   "id": "03e6ca23",
   "metadata": {},
   "outputs": [],
   "source": [
    "data = fb_crawler.start()\n",
    "print(data)\n"
   ]
  },
  {
   "cell_type": "code",
   "execution_count": 3,
   "id": "eb7cba04",
   "metadata": {},
   "outputs": [],
   "source": [
    "fb_crawler.quit_driver()"
   ]
  },
  {
   "cell_type": "code",
   "execution_count": null,
   "id": "109318d1",
   "metadata": {},
   "outputs": [],
   "source": []
  }
 ],
 "metadata": {
  "celltoolbar": "Raw Cell Format",
  "kernelspec": {
   "display_name": "Python 3 (ipykernel)",
   "language": "python",
   "name": "python3"
  },
  "language_info": {
   "codemirror_mode": {
    "name": "ipython",
    "version": 3
   },
   "file_extension": ".py",
   "mimetype": "text/x-python",
   "name": "python",
   "nbconvert_exporter": "python",
   "pygments_lexer": "ipython3",
   "version": "3.9.13"
  }
 },
 "nbformat": 4,
 "nbformat_minor": 5
}
