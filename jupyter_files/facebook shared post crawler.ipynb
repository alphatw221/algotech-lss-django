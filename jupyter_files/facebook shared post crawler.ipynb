{
 "cells": [
  {
   "cell_type": "code",
   "execution_count": 1,
   "id": "5dc1b9c0",
   "metadata": {},
   "outputs": [],
   "source": [
    "import django_initializer\n",
    "from api.models.user.user import User\n",
    "from django.contrib.auth.models import User as AuthUser\n",
    "from json import loads, dumps\n",
    "from collections import OrderedDict\n",
    "import json\n",
    "import re\n",
    "from api.models.campaign.campaign import Campaign\n",
    "from api.models.user.user_subscription import UserSubscription\n",
    "def to_dict(input_ordered_dict):\n",
    "    return loads(dumps(input_ordered_dict))"
   ]
  },
  {
   "cell_type": "code",
   "execution_count": 19,
   "id": "a46d5587",
   "metadata": {},
   "outputs": [],
   "source": [
    "import time\n",
    "from selenium import webdriver\n",
    "from selenium.webdriver.chrome.webdriver import WebDriver\n",
    "from selenium.webdriver.chrome.options import Options\n",
    "from selenium.webdriver.chrome.service import Service\n",
    "from selenium.webdriver import ActionChains, Keys\n",
    "from selenium.webdriver.common.by import By\n",
    "from selenium.webdriver.support.color import Color\n",
    "from selenium.webdriver.common.action_chains import ActionChains\n",
    "\n",
    "chrome_options = Options() \n",
    "# chrome_options.add_argument('--headless')  # 啟動Headless 無頭\n",
    "chrome_options.add_argument('--disable-gpu')\n",
    "executable_path=\"./chromedriver.exe\"\n",
    "chromeService = Service(executable_path=executable_path)\n",
    "\n",
    "\n",
    "driver = webdriver.Chrome(options=chrome_options, service=chromeService) #套用設定\n",
    "\n",
    "video_id = \"457915459648332\"\n",
    "https://https://m.facebook.com/story.php?story_fbid=pfbid02gUiqToRr7HmAcVcnobG8KujpJyzPgVYrg3JKjgRHQg1hfmYLrJSskXC1t4TKgCM7l&id=122021371171015&eav=AfYxQj8tajlynQS7IexfQVYBpRU7bkTkxgJZXxSmAYVyVdAmwp5EKh2tzr5avUofHUg&m_entstream_source=timeline&anchor_composer=false&paipv=0story_fbid=pfbid02gUiqToRr7HmAcVcnobG8KujpJyzPgVYrg3JKjgRHQg1hfmYLrJSskXC1t4TKgCM7l&id=122021371171015&eav=AfYxQj8tajlynQS7IexfQVYBpRU7bkTkxgJZXxSmAYVyVdAmwp5EKh2tzr5avUofHUg&m_entstream_source=timeline&anchor_composer=false&paipv=0\n",
    "url = f'https://m.facebook.com/story.php?id={video_id}'\n",
    "driver.get(url)\n",
    "\n",
    "email_input = driver.find_element(By.ID, \"m_login_email\")\n",
    "pass_input = driver.find_element(By.ID, \"m_login_password\")\n",
    "login_button = driver.find_element(By.NAME, \"login\")\n",
    "\n",
    "actions = ActionChains(driver)\n",
    "actions.send_keys_to_element(email_input, \"twadmin@algotech.app\")\n",
    "actions.send_keys_to_element(pass_input, \"algoFB2021\")\n",
    "actions.click(login_button)\n",
    "actions.perform()\n",
    "    "
   ]
  },
  {
   "cell_type": "code",
   "execution_count": 15,
   "id": "03e6ca23",
   "metadata": {},
   "outputs": [],
   "source": [
    "driver.quit()"
   ]
  },
  {
   "cell_type": "code",
   "execution_count": null,
   "id": "c8f36d0d",
   "metadata": {},
   "outputs": [],
   "source": []
  }
 ],
 "metadata": {
  "kernelspec": {
   "display_name": "Python 3 (ipykernel)",
   "language": "python",
   "name": "python3"
  },
  "language_info": {
   "codemirror_mode": {
    "name": "ipython",
    "version": 3
   },
   "file_extension": ".py",
   "mimetype": "text/x-python",
   "name": "python",
   "nbconvert_exporter": "python",
   "pygments_lexer": "ipython3",
   "version": "3.9.0"
  }
 },
 "nbformat": 4,
 "nbformat_minor": 5
}
